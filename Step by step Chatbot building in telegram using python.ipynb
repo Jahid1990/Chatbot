{
  "nbformat": 4,
  "nbformat_minor": 0,
  "metadata": {
    "accelerator": "GPU",
    "colab": {
      "name": "GP Chatbot_bengali.ipynb",
      "provenance": [],
      "collapsed_sections": [],
      "mount_file_id": "1P-7r11W5ltXXwy27vVdc9X1Eyf-AnLH9",
      "authorship_tag": "ABX9TyOk8MT3TGW/zzdrKX2zzsNM",
      "include_colab_link": true
    },
    "kernelspec": {
      "display_name": "Python 3",
      "name": "python3"
    }
  },
  "cells": [
    {
      "cell_type": "markdown",
      "metadata": {
        "id": "view-in-github",
        "colab_type": "text"
      },
      "source": [
        "<a href=\"https://colab.research.google.com/github/Jahid1990/Chatbot/blob/main/Step%20by%20step%20Chatbot%20building%20in%20telegram%20using%20python.ipynb\" target=\"_parent\"><img src=\"https://colab.research.google.com/assets/colab-badge.svg\" alt=\"Open In Colab\"/></a>"
      ]
    },
    {
      "cell_type": "markdown",
      "metadata": {
        "id": "q3JQQzjaV2kq"
      },
      "source": [
        "# ChatBoT\r\n",
        "\r\n",
        "In this notebook, I will try to demostrate end to end  building process of telegram chatbot based in python. Chatbot has 3 parts if I breakdown components of a basic chatbot. \r\n",
        "\r\n",
        "1. Input\r\n",
        "2. Understanding the Input\r\n",
        "3. Provide answer based on  understanding the Input\r\n",
        "\r\n",
        "I will use telegram as interface- to take input and show output, deep learning LSTM model to understand the Intent of the input.\r\n",
        "\r\n",
        "lets explore......"
      ]
    },
    {
      "cell_type": "markdown",
      "metadata": {
        "id": "EVZNVRpQygpl"
      },
      "source": [
        "# Required python libraries"
      ]
    },
    {
      "cell_type": "code",
      "metadata": {
        "id": "w4QLF21nLfIk"
      },
      "source": [
        "# !pip install bnlp_toolkit\r\n",
        "import numpy as np # linear algebra\r\n",
        "import pandas as pd \r\n",
        "import tensorflow as tf\r\n",
        "from sklearn.feature_extraction.text import CountVectorizer\r\n",
        "from keras.preprocessing.text import Tokenizer\r\n",
        "from keras.preprocessing.sequence import pad_sequences\r\n",
        "from tensorflow.keras.callbacks import ModelCheckpoint\r\n",
        "from keras.models import Sequential\r\n",
        "from keras.layers import Dense, Embedding, LSTM, SpatialDropout1D\r\n",
        "from sklearn.model_selection import train_test_split\r\n",
        "from keras.utils.np_utils import to_categorical\r\n",
        "import re\r\n",
        "pd.set_option(\"display.max_rows\", 50000, \"display.max_columns\", 500)"
      ],
      "execution_count": null,
      "outputs": []
    },
    {
      "cell_type": "markdown",
      "metadata": {
        "id": "EWT1L4KAzSQO"
      },
      "source": [
        "# Training Data loading\r\n",
        "\r\n",
        "I have around 88k queries and corresponding answers of that queries. I used this dataset for building this chatbot. Questions and answers would be limited to this dataset.*italicized text* "
      ]
    },
    {
      "cell_type": "code",
      "metadata": {
        "colab": {
          "base_uri": "https://localhost:8080/",
          "height": 200
        },
        "id": "LxWMhFB-Friy",
        "outputId": "829fe185-d06e-4134-91cd-7889a10e8b4b"
      },
      "source": [
        "data=pd.read_csv(\"/content/drive/MyDrive/to_english.csv\")\r\n",
        "data=data.iloc[:,1:3]\r\n",
        "data.columns=[\"Text\",\"Intent\"]\r\n",
        "data.head()"
      ],
      "execution_count": null,
      "outputs": [
        {
          "output_type": "execute_result",
          "data": {
            "text/html": [
              "<div>\n",
              "<style scoped>\n",
              "    .dataframe tbody tr th:only-of-type {\n",
              "        vertical-align: middle;\n",
              "    }\n",
              "\n",
              "    .dataframe tbody tr th {\n",
              "        vertical-align: top;\n",
              "    }\n",
              "\n",
              "    .dataframe thead th {\n",
              "        text-align: right;\n",
              "    }\n",
              "</style>\n",
              "<table border=\"1\" class=\"dataframe\">\n",
              "  <thead>\n",
              "    <tr style=\"text-align: right;\">\n",
              "      <th></th>\n",
              "      <th>Text</th>\n",
              "      <th>Intent</th>\n",
              "    </tr>\n",
              "  </thead>\n",
              "  <tbody>\n",
              "    <tr>\n",
              "      <th>0</th>\n",
              "      <td>Amar account e koto taka ache?</td>\n",
              "      <td>checkavailablebalanceand validity</td>\n",
              "    </tr>\n",
              "    <tr>\n",
              "      <th>1</th>\n",
              "      <td>Ami account balance kivabe dekhbo?</td>\n",
              "      <td>checkavailablebalanceand validity</td>\n",
              "    </tr>\n",
              "    <tr>\n",
              "      <th>2</th>\n",
              "      <td>Amar koto taka balance ase?</td>\n",
              "      <td>checkavailablebalanceand validity</td>\n",
              "    </tr>\n",
              "    <tr>\n",
              "      <th>3</th>\n",
              "      <td>Amar koto taka ache?</td>\n",
              "      <td>checkavailablebalanceand validity</td>\n",
              "    </tr>\n",
              "    <tr>\n",
              "      <th>4</th>\n",
              "      <td>Account er balance bolen</td>\n",
              "      <td>checkavailablebalanceand validity</td>\n",
              "    </tr>\n",
              "  </tbody>\n",
              "</table>\n",
              "</div>"
            ],
            "text/plain": [
              "                                 Text                             Intent\n",
              "0      Amar account e koto taka ache?  checkavailablebalanceand validity\n",
              "1  Ami account balance kivabe dekhbo?  checkavailablebalanceand validity\n",
              "2         Amar koto taka balance ase?  checkavailablebalanceand validity\n",
              "3                Amar koto taka ache?  checkavailablebalanceand validity\n",
              "4            Account er balance bolen  checkavailablebalanceand validity"
            ]
          },
          "metadata": {
            "tags": []
          },
          "execution_count": 2
        }
      ]
    },
    {
      "cell_type": "markdown",
      "metadata": {
        "id": "ci4iHm75W9tI"
      },
      "source": [
        "# Text Processsing\r\n",
        "\r\n",
        "Did not know that keras provide such wonderful functions for text processing. There are some few other libraries in pyhton which explored some of them but to me keras is awesome for its simplicity. I am happy using keras for text processing as well as training our intent understanding model.\r\n",
        "\r\n",
        "following cells could be titled as follows:\r\n",
        "\r\n",
        "1. Tokenizing, Sequencing and Padding\r\n",
        "2. Train Test Splitting\r\n",
        "3. Model Architecture\r\n",
        "4. Compliling the mode along with loss function definition\r\n",
        "5. Training model "
      ]
    },
    {
      "cell_type": "code",
      "metadata": {
        "id": "oJF9ngVAEKtZ"
      },
      "source": [
        "max_fatures =2000\r\n",
        "tokenizer = Tokenizer(num_words=max_fatures, split=' ',char_level=True)\r\n",
        "tokenizer.fit_on_texts(data['Text'].values)\r\n",
        "#tokenizer.index_word=dict(pd.Series(tokenizer.index_word.values())[~pd.Series(tokenizer.index_word.values()).isin(stop_words)])\r\n",
        "X = tokenizer.texts_to_sequences(data['Text'].values)\r\n",
        "X = pad_sequences(X,padding='post')"
      ],
      "execution_count": null,
      "outputs": []
    },
    {
      "cell_type": "code",
      "metadata": {
        "colab": {
          "base_uri": "https://localhost:8080/"
        },
        "id": "Oc8q9tNRIOQz",
        "outputId": "dffcaa29-cb5b-4000-9854-4dba66fa9270"
      },
      "source": [
        "Y = pd.get_dummies(data['Intent'],prefix_sep='a')\r\n",
        "X_train, X_test, Y_train, Y_test = train_test_split(X,Y, test_size = 0.33, random_state = 42)\r\n",
        "print(X_train.shape,Y_train.shape)\r\n",
        "print(X_test.shape,Y_test.shape)"
      ],
      "execution_count": null,
      "outputs": [
        {
          "output_type": "stream",
          "text": [
            "(59385, 102) (59385, 33)\n",
            "(29250, 102) (29250, 33)\n"
          ],
          "name": "stdout"
        }
      ]
    },
    {
      "cell_type": "code",
      "metadata": {
        "colab": {
          "base_uri": "https://localhost:8080/"
        },
        "id": "Y2SV4VGjzBVu",
        "outputId": "dbf60718-d429-4609-8e81-e8b8acd5e449"
      },
      "source": [
        "embed_dim = 196\r\n",
        "lstm_out = 200\r\n",
        "\r\n",
        "model = Sequential()\r\n",
        "model.add(Embedding(max_fatures, embed_dim, input_length = X.shape[1]))\r\n",
        "model.add(SpatialDropout1D(0.4))\r\n",
        "model.add(LSTM(lstm_out, dropout=0.2, return_sequences=True))\r\n",
        "# model.add(LSTM(lstm_out, dropout=0.2, return_sequences=True))\r\n",
        "# model.add(LSTM(lstm_out, dropout=0.2))\r\n",
        "model.add(tf.keras.layers.Flatten())\r\n",
        "model.add(Dense(Y_train.shape[1],activation='softmax'))\r\n",
        "model.compile(loss = 'categorical_crossentropy', optimizer='adam',metrics = ['accuracy'])\r\n",
        "print(model.summary())"
      ],
      "execution_count": null,
      "outputs": [
        {
          "output_type": "stream",
          "text": [
            "Model: \"sequential_3\"\n",
            "_________________________________________________________________\n",
            "Layer (type)                 Output Shape              Param #   \n",
            "=================================================================\n",
            "embedding_3 (Embedding)      (None, 102, 196)          392000    \n",
            "_________________________________________________________________\n",
            "spatial_dropout1d (SpatialDr (None, 102, 196)          0         \n",
            "_________________________________________________________________\n",
            "lstm (LSTM)                  (None, 102, 200)          317600    \n",
            "_________________________________________________________________\n",
            "flatten_2 (Flatten)          (None, 20400)             0         \n",
            "_________________________________________________________________\n",
            "dense_2 (Dense)              (None, 33)                673233    \n",
            "=================================================================\n",
            "Total params: 1,382,833\n",
            "Trainable params: 1,382,833\n",
            "Non-trainable params: 0\n",
            "_________________________________________________________________\n",
            "None\n"
          ],
          "name": "stdout"
        }
      ]
    },
    {
      "cell_type": "code",
      "metadata": {
        "id": "fu0XkI0qJEpU"
      },
      "source": [
        "import tensorflow as tf\r\n",
        "learn_rate = 0.0001\r\n",
        "optim = tf.keras.optimizers.Adam(lr=learn_rate, decay=1e-5)\r\n",
        "checkpointer = ModelCheckpoint(filepath='/content/drive/MyDrive/gp_chatbot.h5', verbose=1, save_best_only=True)\r\n",
        "model.compile(loss='categorical_crossentropy', optimizer=optim, metrics=['accuracy'])"
      ],
      "execution_count": null,
      "outputs": []
    },
    {
      "cell_type": "code",
      "metadata": {
        "id": "GiGjCF0ydchv",
        "colab": {
          "base_uri": "https://localhost:8080/"
        },
        "outputId": "e928731e-bb2c-493f-d2c4-34b25020c749"
      },
      "source": [
        "batch_size = 512\r\n",
        "learn_rate = 0.0001\r\n",
        "optim = tf.keras.optimizers.Adam(lr=learn_rate, decay=1e-5)\r\n",
        "model.fit(X_train, Y_train, epochs = 100, batch_size=batch_size,validation_split=.2, verbose = 1)"
      ],
      "execution_count": null,
      "outputs": [
        {
          "output_type": "stream",
          "text": [
            "Epoch 1/100\n",
            "93/93 [==============================] - 7s 78ms/step - loss: 0.0206 - accuracy: 0.9932 - val_loss: 0.0823 - val_accuracy: 0.9779\n",
            "Epoch 2/100\n",
            "93/93 [==============================] - 5s 57ms/step - loss: 0.0198 - accuracy: 0.9931 - val_loss: 0.0772 - val_accuracy: 0.9798\n",
            "Epoch 3/100\n",
            "93/93 [==============================] - 5s 57ms/step - loss: 0.0204 - accuracy: 0.9930 - val_loss: 0.0771 - val_accuracy: 0.9784\n",
            "Epoch 4/100\n",
            "93/93 [==============================] - 5s 57ms/step - loss: 0.0196 - accuracy: 0.9934 - val_loss: 0.0762 - val_accuracy: 0.9789\n",
            "Epoch 5/100\n",
            "93/93 [==============================] - 5s 56ms/step - loss: 0.0192 - accuracy: 0.9936 - val_loss: 0.0790 - val_accuracy: 0.9788\n",
            "Epoch 6/100\n",
            "93/93 [==============================] - 5s 57ms/step - loss: 0.0186 - accuracy: 0.9937 - val_loss: 0.0766 - val_accuracy: 0.9796\n",
            "Epoch 7/100\n",
            "93/93 [==============================] - 5s 57ms/step - loss: 0.0184 - accuracy: 0.9940 - val_loss: 0.0773 - val_accuracy: 0.9783\n",
            "Epoch 8/100\n",
            "93/93 [==============================] - 5s 57ms/step - loss: 0.0196 - accuracy: 0.9936 - val_loss: 0.0780 - val_accuracy: 0.9794\n",
            "Epoch 9/100\n",
            "93/93 [==============================] - 5s 57ms/step - loss: 0.0174 - accuracy: 0.9943 - val_loss: 0.0775 - val_accuracy: 0.9796\n",
            "Epoch 10/100\n",
            "93/93 [==============================] - 5s 57ms/step - loss: 0.0172 - accuracy: 0.9941 - val_loss: 0.0848 - val_accuracy: 0.9777\n",
            "Epoch 11/100\n",
            "93/93 [==============================] - 5s 57ms/step - loss: 0.0173 - accuracy: 0.9940 - val_loss: 0.0759 - val_accuracy: 0.9795\n",
            "Epoch 12/100\n",
            "93/93 [==============================] - 5s 57ms/step - loss: 0.0168 - accuracy: 0.9946 - val_loss: 0.0785 - val_accuracy: 0.9800\n",
            "Epoch 13/100\n",
            "93/93 [==============================] - 5s 58ms/step - loss: 0.0173 - accuracy: 0.9940 - val_loss: 0.0788 - val_accuracy: 0.9798\n",
            "Epoch 14/100\n",
            "93/93 [==============================] - 5s 58ms/step - loss: 0.0169 - accuracy: 0.9942 - val_loss: 0.0795 - val_accuracy: 0.9793\n",
            "Epoch 15/100\n",
            "93/93 [==============================] - 6s 60ms/step - loss: 0.0162 - accuracy: 0.9946 - val_loss: 0.0758 - val_accuracy: 0.9800\n",
            "Epoch 16/100\n",
            "93/93 [==============================] - 5s 58ms/step - loss: 0.0159 - accuracy: 0.9947 - val_loss: 0.0753 - val_accuracy: 0.9807\n",
            "Epoch 17/100\n",
            "93/93 [==============================] - 5s 58ms/step - loss: 0.0158 - accuracy: 0.9946 - val_loss: 0.0756 - val_accuracy: 0.9795\n",
            "Epoch 18/100\n",
            "93/93 [==============================] - 5s 57ms/step - loss: 0.0157 - accuracy: 0.9946 - val_loss: 0.0747 - val_accuracy: 0.9800\n",
            "Epoch 19/100\n",
            "93/93 [==============================] - 5s 58ms/step - loss: 0.0163 - accuracy: 0.9942 - val_loss: 0.0757 - val_accuracy: 0.9795\n",
            "Epoch 20/100\n",
            "93/93 [==============================] - 5s 58ms/step - loss: 0.0156 - accuracy: 0.9947 - val_loss: 0.0800 - val_accuracy: 0.9794\n",
            "Epoch 21/100\n",
            "93/93 [==============================] - 5s 58ms/step - loss: 0.0154 - accuracy: 0.9947 - val_loss: 0.0742 - val_accuracy: 0.9800\n",
            "Epoch 22/100\n",
            "93/93 [==============================] - 5s 58ms/step - loss: 0.0156 - accuracy: 0.9948 - val_loss: 0.0763 - val_accuracy: 0.9804\n",
            "Epoch 23/100\n",
            "93/93 [==============================] - 5s 58ms/step - loss: 0.0151 - accuracy: 0.9950 - val_loss: 0.0763 - val_accuracy: 0.9800\n",
            "Epoch 24/100\n",
            "93/93 [==============================] - 5s 57ms/step - loss: 0.0150 - accuracy: 0.9948 - val_loss: 0.0814 - val_accuracy: 0.9800\n",
            "Epoch 25/100\n",
            "93/93 [==============================] - 5s 58ms/step - loss: 0.0161 - accuracy: 0.9944 - val_loss: 0.0775 - val_accuracy: 0.9789\n",
            "Epoch 26/100\n",
            "93/93 [==============================] - 5s 57ms/step - loss: 0.0153 - accuracy: 0.9947 - val_loss: 0.0767 - val_accuracy: 0.9800\n",
            "Epoch 27/100\n",
            "93/93 [==============================] - 5s 57ms/step - loss: 0.0135 - accuracy: 0.9954 - val_loss: 0.0751 - val_accuracy: 0.9806\n",
            "Epoch 28/100\n",
            "93/93 [==============================] - 5s 58ms/step - loss: 0.0138 - accuracy: 0.9952 - val_loss: 0.0735 - val_accuracy: 0.9803\n",
            "Epoch 29/100\n",
            "93/93 [==============================] - 5s 58ms/step - loss: 0.0149 - accuracy: 0.9949 - val_loss: 0.0801 - val_accuracy: 0.9808\n",
            "Epoch 30/100\n",
            "93/93 [==============================] - 5s 58ms/step - loss: 0.0138 - accuracy: 0.9954 - val_loss: 0.0753 - val_accuracy: 0.9806\n",
            "Epoch 31/100\n",
            "93/93 [==============================] - 5s 57ms/step - loss: 0.0142 - accuracy: 0.9951 - val_loss: 0.0766 - val_accuracy: 0.9811\n",
            "Epoch 32/100\n",
            "93/93 [==============================] - 5s 57ms/step - loss: 0.0131 - accuracy: 0.9955 - val_loss: 0.0817 - val_accuracy: 0.9803\n",
            "Epoch 33/100\n",
            "93/93 [==============================] - 5s 57ms/step - loss: 0.0133 - accuracy: 0.9955 - val_loss: 0.0786 - val_accuracy: 0.9806\n",
            "Epoch 34/100\n",
            "93/93 [==============================] - 5s 57ms/step - loss: 0.0132 - accuracy: 0.9951 - val_loss: 0.0797 - val_accuracy: 0.9799\n",
            "Epoch 35/100\n",
            "93/93 [==============================] - 5s 57ms/step - loss: 0.0133 - accuracy: 0.9953 - val_loss: 0.0780 - val_accuracy: 0.9798\n",
            "Epoch 36/100\n",
            "93/93 [==============================] - 5s 57ms/step - loss: 0.0143 - accuracy: 0.9952 - val_loss: 0.0776 - val_accuracy: 0.9806\n",
            "Epoch 37/100\n",
            "93/93 [==============================] - 5s 57ms/step - loss: 0.0121 - accuracy: 0.9959 - val_loss: 0.0762 - val_accuracy: 0.9799\n",
            "Epoch 38/100\n",
            "93/93 [==============================] - 5s 57ms/step - loss: 0.0129 - accuracy: 0.9955 - val_loss: 0.0762 - val_accuracy: 0.9813\n",
            "Epoch 39/100\n",
            "93/93 [==============================] - 5s 57ms/step - loss: 0.0125 - accuracy: 0.9958 - val_loss: 0.0755 - val_accuracy: 0.9800\n",
            "Epoch 40/100\n",
            "93/93 [==============================] - 5s 57ms/step - loss: 0.0129 - accuracy: 0.9954 - val_loss: 0.0780 - val_accuracy: 0.9803\n",
            "Epoch 41/100\n",
            "93/93 [==============================] - 5s 57ms/step - loss: 0.0131 - accuracy: 0.9955 - val_loss: 0.0792 - val_accuracy: 0.9798\n",
            "Epoch 42/100\n",
            "93/93 [==============================] - 5s 57ms/step - loss: 0.0127 - accuracy: 0.9954 - val_loss: 0.0743 - val_accuracy: 0.9811\n",
            "Epoch 43/100\n",
            "93/93 [==============================] - 5s 57ms/step - loss: 0.0120 - accuracy: 0.9960 - val_loss: 0.0815 - val_accuracy: 0.9796\n",
            "Epoch 44/100\n",
            "93/93 [==============================] - 5s 58ms/step - loss: 0.0124 - accuracy: 0.9957 - val_loss: 0.0798 - val_accuracy: 0.9806\n",
            "Epoch 45/100\n",
            "93/93 [==============================] - 5s 57ms/step - loss: 0.0125 - accuracy: 0.9959 - val_loss: 0.0752 - val_accuracy: 0.9808\n",
            "Epoch 46/100\n",
            "93/93 [==============================] - 5s 58ms/step - loss: 0.0127 - accuracy: 0.9953 - val_loss: 0.0760 - val_accuracy: 0.9811\n",
            "Epoch 47/100\n",
            "93/93 [==============================] - 5s 57ms/step - loss: 0.0106 - accuracy: 0.9965 - val_loss: 0.0763 - val_accuracy: 0.9811\n",
            "Epoch 48/100\n",
            "93/93 [==============================] - 5s 57ms/step - loss: 0.0117 - accuracy: 0.9962 - val_loss: 0.0801 - val_accuracy: 0.9814\n",
            "Epoch 49/100\n",
            "93/93 [==============================] - 5s 57ms/step - loss: 0.0119 - accuracy: 0.9957 - val_loss: 0.0801 - val_accuracy: 0.9809\n",
            "Epoch 50/100\n",
            "93/93 [==============================] - 5s 57ms/step - loss: 0.0113 - accuracy: 0.9962 - val_loss: 0.0824 - val_accuracy: 0.9806\n",
            "Epoch 51/100\n",
            "93/93 [==============================] - 5s 58ms/step - loss: 0.0114 - accuracy: 0.9960 - val_loss: 0.0757 - val_accuracy: 0.9805\n",
            "Epoch 52/100\n",
            "93/93 [==============================] - 5s 57ms/step - loss: 0.0113 - accuracy: 0.9959 - val_loss: 0.0758 - val_accuracy: 0.9811\n",
            "Epoch 53/100\n",
            "93/93 [==============================] - 5s 57ms/step - loss: 0.0100 - accuracy: 0.9963 - val_loss: 0.0758 - val_accuracy: 0.9818\n",
            "Epoch 54/100\n",
            "93/93 [==============================] - 5s 57ms/step - loss: 0.0114 - accuracy: 0.9962 - val_loss: 0.0792 - val_accuracy: 0.9814\n",
            "Epoch 55/100\n",
            "93/93 [==============================] - 5s 58ms/step - loss: 0.0114 - accuracy: 0.9956 - val_loss: 0.0791 - val_accuracy: 0.9810\n",
            "Epoch 56/100\n",
            "93/93 [==============================] - 5s 58ms/step - loss: 0.0102 - accuracy: 0.9963 - val_loss: 0.0805 - val_accuracy: 0.9820\n",
            "Epoch 57/100\n",
            "93/93 [==============================] - 5s 58ms/step - loss: 0.0096 - accuracy: 0.9967 - val_loss: 0.0804 - val_accuracy: 0.9813\n",
            "Epoch 58/100\n",
            "93/93 [==============================] - 5s 58ms/step - loss: 0.0105 - accuracy: 0.9962 - val_loss: 0.0774 - val_accuracy: 0.9806\n",
            "Epoch 59/100\n",
            "93/93 [==============================] - 5s 58ms/step - loss: 0.0096 - accuracy: 0.9963 - val_loss: 0.0796 - val_accuracy: 0.9811\n",
            "Epoch 60/100\n",
            "93/93 [==============================] - 5s 58ms/step - loss: 0.0103 - accuracy: 0.9965 - val_loss: 0.0819 - val_accuracy: 0.9801\n",
            "Epoch 61/100\n",
            "93/93 [==============================] - 5s 58ms/step - loss: 0.0110 - accuracy: 0.9962 - val_loss: 0.0797 - val_accuracy: 0.9809\n",
            "Epoch 62/100\n",
            "93/93 [==============================] - 5s 59ms/step - loss: 0.0096 - accuracy: 0.9966 - val_loss: 0.0816 - val_accuracy: 0.9803\n",
            "Epoch 63/100\n",
            "93/93 [==============================] - 5s 58ms/step - loss: 0.0095 - accuracy: 0.9969 - val_loss: 0.0760 - val_accuracy: 0.9814\n",
            "Epoch 64/100\n",
            "93/93 [==============================] - 5s 59ms/step - loss: 0.0108 - accuracy: 0.9963 - val_loss: 0.0764 - val_accuracy: 0.9810\n",
            "Epoch 65/100\n",
            "93/93 [==============================] - 5s 58ms/step - loss: 0.0105 - accuracy: 0.9962 - val_loss: 0.0772 - val_accuracy: 0.9815\n",
            "Epoch 66/100\n",
            "93/93 [==============================] - 5s 58ms/step - loss: 0.0098 - accuracy: 0.9968 - val_loss: 0.0815 - val_accuracy: 0.9804\n",
            "Epoch 67/100\n",
            "93/93 [==============================] - 5s 58ms/step - loss: 0.0091 - accuracy: 0.9967 - val_loss: 0.0753 - val_accuracy: 0.9807\n",
            "Epoch 68/100\n",
            "93/93 [==============================] - 5s 58ms/step - loss: 0.0101 - accuracy: 0.9964 - val_loss: 0.0795 - val_accuracy: 0.9803\n",
            "Epoch 69/100\n",
            "93/93 [==============================] - 5s 57ms/step - loss: 0.0095 - accuracy: 0.9968 - val_loss: 0.0792 - val_accuracy: 0.9816\n",
            "Epoch 70/100\n",
            "93/93 [==============================] - 5s 57ms/step - loss: 0.0092 - accuracy: 0.9965 - val_loss: 0.0787 - val_accuracy: 0.9812\n",
            "Epoch 71/100\n",
            "93/93 [==============================] - 5s 57ms/step - loss: 0.0087 - accuracy: 0.9967 - val_loss: 0.0792 - val_accuracy: 0.9809\n",
            "Epoch 72/100\n",
            "93/93 [==============================] - 5s 57ms/step - loss: 0.0102 - accuracy: 0.9963 - val_loss: 0.0783 - val_accuracy: 0.9808\n",
            "Epoch 73/100\n",
            "93/93 [==============================] - 5s 57ms/step - loss: 0.0101 - accuracy: 0.9963 - val_loss: 0.0790 - val_accuracy: 0.9807\n",
            "Epoch 74/100\n",
            "93/93 [==============================] - 5s 57ms/step - loss: 0.0085 - accuracy: 0.9970 - val_loss: 0.0773 - val_accuracy: 0.9816\n",
            "Epoch 75/100\n",
            "93/93 [==============================] - 5s 59ms/step - loss: 0.0098 - accuracy: 0.9966 - val_loss: 0.0775 - val_accuracy: 0.9814\n",
            "Epoch 76/100\n",
            "93/93 [==============================] - 5s 59ms/step - loss: 0.0086 - accuracy: 0.9968 - val_loss: 0.0798 - val_accuracy: 0.9818\n",
            "Epoch 77/100\n",
            "93/93 [==============================] - 5s 57ms/step - loss: 0.0096 - accuracy: 0.9965 - val_loss: 0.0817 - val_accuracy: 0.9815\n",
            "Epoch 78/100\n",
            "93/93 [==============================] - 5s 57ms/step - loss: 0.0095 - accuracy: 0.9964 - val_loss: 0.0776 - val_accuracy: 0.9815\n",
            "Epoch 79/100\n",
            "93/93 [==============================] - 5s 57ms/step - loss: 0.0081 - accuracy: 0.9970 - val_loss: 0.0779 - val_accuracy: 0.9818\n",
            "Epoch 80/100\n",
            "93/93 [==============================] - 5s 58ms/step - loss: 0.0087 - accuracy: 0.9967 - val_loss: 0.0777 - val_accuracy: 0.9814\n",
            "Epoch 81/100\n",
            "93/93 [==============================] - 5s 58ms/step - loss: 0.0090 - accuracy: 0.9967 - val_loss: 0.0835 - val_accuracy: 0.9807\n",
            "Epoch 82/100\n",
            "93/93 [==============================] - 5s 58ms/step - loss: 0.0087 - accuracy: 0.9968 - val_loss: 0.0798 - val_accuracy: 0.9809\n",
            "Epoch 83/100\n",
            "93/93 [==============================] - 5s 58ms/step - loss: 0.0100 - accuracy: 0.9964 - val_loss: 0.0746 - val_accuracy: 0.9825\n",
            "Epoch 84/100\n",
            "93/93 [==============================] - 5s 58ms/step - loss: 0.0083 - accuracy: 0.9970 - val_loss: 0.0773 - val_accuracy: 0.9822\n",
            "Epoch 85/100\n",
            "93/93 [==============================] - 5s 58ms/step - loss: 0.0094 - accuracy: 0.9967 - val_loss: 0.0769 - val_accuracy: 0.9818\n",
            "Epoch 86/100\n",
            "93/93 [==============================] - 5s 59ms/step - loss: 0.0087 - accuracy: 0.9966 - val_loss: 0.0738 - val_accuracy: 0.9831\n",
            "Epoch 87/100\n",
            "93/93 [==============================] - 5s 59ms/step - loss: 0.0085 - accuracy: 0.9970 - val_loss: 0.0767 - val_accuracy: 0.9823\n",
            "Epoch 88/100\n",
            "93/93 [==============================] - 5s 59ms/step - loss: 0.0088 - accuracy: 0.9969 - val_loss: 0.0773 - val_accuracy: 0.9815\n",
            "Epoch 89/100\n",
            "93/93 [==============================] - 5s 58ms/step - loss: 0.0080 - accuracy: 0.9969 - val_loss: 0.0796 - val_accuracy: 0.9816\n",
            "Epoch 90/100\n",
            "93/93 [==============================] - 5s 58ms/step - loss: 0.0086 - accuracy: 0.9967 - val_loss: 0.0788 - val_accuracy: 0.9819\n",
            "Epoch 91/100\n",
            "93/93 [==============================] - 5s 58ms/step - loss: 0.0092 - accuracy: 0.9966 - val_loss: 0.0784 - val_accuracy: 0.9816\n",
            "Epoch 92/100\n",
            "93/93 [==============================] - 5s 58ms/step - loss: 0.0082 - accuracy: 0.9971 - val_loss: 0.0792 - val_accuracy: 0.9831\n",
            "Epoch 93/100\n",
            "93/93 [==============================] - 5s 58ms/step - loss: 0.0078 - accuracy: 0.9970 - val_loss: 0.0767 - val_accuracy: 0.9827\n",
            "Epoch 94/100\n",
            "93/93 [==============================] - 5s 59ms/step - loss: 0.0081 - accuracy: 0.9971 - val_loss: 0.0788 - val_accuracy: 0.9820\n",
            "Epoch 95/100\n",
            "93/93 [==============================] - 5s 59ms/step - loss: 0.0083 - accuracy: 0.9968 - val_loss: 0.0779 - val_accuracy: 0.9822\n",
            "Epoch 96/100\n",
            "93/93 [==============================] - 5s 58ms/step - loss: 0.0084 - accuracy: 0.9967 - val_loss: 0.0787 - val_accuracy: 0.9815\n",
            "Epoch 97/100\n",
            "93/93 [==============================] - 5s 58ms/step - loss: 0.0084 - accuracy: 0.9968 - val_loss: 0.0765 - val_accuracy: 0.9829\n",
            "Epoch 98/100\n",
            "93/93 [==============================] - 5s 59ms/step - loss: 0.0081 - accuracy: 0.9971 - val_loss: 0.0751 - val_accuracy: 0.9829\n",
            "Epoch 99/100\n",
            "93/93 [==============================] - 5s 58ms/step - loss: 0.0084 - accuracy: 0.9969 - val_loss: 0.0790 - val_accuracy: 0.9825\n",
            "Epoch 100/100\n",
            "93/93 [==============================] - 5s 59ms/step - loss: 0.0076 - accuracy: 0.9974 - val_loss: 0.0788 - val_accuracy: 0.9828\n"
          ],
          "name": "stdout"
        },
        {
          "output_type": "execute_result",
          "data": {
            "text/plain": [
              "<tensorflow.python.keras.callbacks.History at 0x7feb95839240>"
            ]
          },
          "metadata": {
            "tags": []
          },
          "execution_count": 17
        }
      ]
    },
    {
      "cell_type": "markdown",
      "metadata": {
        "id": "OIwAdoVW2Kac"
      },
      "source": [
        "#Evaluation"
      ]
    },
    {
      "cell_type": "code",
      "metadata": {
        "id": "cc7CiOLIKP-K"
      },
      "source": [
        "from sklearn.metrics import classification_report\r\n",
        "import tensorflow as tf\r\n",
        "model=tf.keras.models.load_model('/content/drive/MyDrive/gp_chatbot.h5')\r\n",
        "pred=model.predict(X_test)                                                                                                                                                                          \r\n",
        "pred=np.argmax(pred,axis=1)\r\n",
        "act=np.argmax(Y_test.to_numpy(),axis=1)\r\n",
        "print(classification_report(pred, act))"
      ],
      "execution_count": null,
      "outputs": []
    },
    {
      "cell_type": "code",
      "metadata": {
        "id": "dSYFSaveIUOG",
        "colab": {
          "base_uri": "https://localhost:8080/",
          "height": 411
        },
        "outputId": "d2034bfe-9c6b-46ca-a479-e6861d995919"
      },
      "source": [
        "data[\"PRED\"]=Y_test.columns[pd.DataFrame(pred).idxmax(axis=1)]\r\n",
        "data[\"PRED_ACC\"]=np.where(data.Intent==data.PRED,1,0)\r\n",
        "data[\"PRED_ACC\"].value_counts()/data.shape[0]*100\r\n",
        "data"
      ],
      "execution_count": null,
      "outputs": [
        {
          "output_type": "execute_result",
          "data": {
            "text/html": [
              "<div>\n",
              "<style scoped>\n",
              "    .dataframe tbody tr th:only-of-type {\n",
              "        vertical-align: middle;\n",
              "    }\n",
              "\n",
              "    .dataframe tbody tr th {\n",
              "        vertical-align: top;\n",
              "    }\n",
              "\n",
              "    .dataframe thead th {\n",
              "        text-align: right;\n",
              "    }\n",
              "</style>\n",
              "<table border=\"1\" class=\"dataframe\">\n",
              "  <thead>\n",
              "    <tr style=\"text-align: right;\">\n",
              "      <th></th>\n",
              "      <th>Text</th>\n",
              "      <th>Intent</th>\n",
              "      <th>PRED</th>\n",
              "      <th>PRED_ACC</th>\n",
              "    </tr>\n",
              "  </thead>\n",
              "  <tbody>\n",
              "    <tr>\n",
              "      <th>0</th>\n",
              "      <td>Amar account e koto taka ache?</td>\n",
              "      <td>checkavailablebalanceand validity</td>\n",
              "      <td>CheckSMSofferinfo</td>\n",
              "      <td>0</td>\n",
              "    </tr>\n",
              "    <tr>\n",
              "      <th>1</th>\n",
              "      <td>Ami account balance kivabe dekhbo?</td>\n",
              "      <td>checkavailablebalanceand validity</td>\n",
              "      <td>CheckSMSofferinfo</td>\n",
              "      <td>0</td>\n",
              "    </tr>\n",
              "    <tr>\n",
              "      <th>2</th>\n",
              "      <td>Amar koto taka balance ase?</td>\n",
              "      <td>checkavailablebalanceand validity</td>\n",
              "      <td>CheckSMSofferinfo</td>\n",
              "      <td>0</td>\n",
              "    </tr>\n",
              "    <tr>\n",
              "      <th>3</th>\n",
              "      <td>Amar koto taka ache?</td>\n",
              "      <td>checkavailablebalanceand validity</td>\n",
              "      <td>CheckSMSofferinfo</td>\n",
              "      <td>0</td>\n",
              "    </tr>\n",
              "    <tr>\n",
              "      <th>4</th>\n",
              "      <td>Account er balance bolen</td>\n",
              "      <td>checkavailablebalanceand validity</td>\n",
              "      <td>CheckSMSofferinfo</td>\n",
              "      <td>0</td>\n",
              "    </tr>\n",
              "    <tr>\n",
              "      <th>...</th>\n",
              "      <td>...</td>\n",
              "      <td>...</td>\n",
              "      <td>...</td>\n",
              "      <td>...</td>\n",
              "    </tr>\n",
              "    <tr>\n",
              "      <th>88630</th>\n",
              "      <td>What special minit offer there in my number</td>\n",
              "      <td>MicroVoiceOfferInfo</td>\n",
              "      <td>CheckSMSofferinfo</td>\n",
              "      <td>0</td>\n",
              "    </tr>\n",
              "    <tr>\n",
              "      <th>88631</th>\n",
              "      <td>Any minit offer are in my number</td>\n",
              "      <td>MicroVoiceOfferInfo</td>\n",
              "      <td>CheckSMSofferinfo</td>\n",
              "      <td>0</td>\n",
              "    </tr>\n",
              "    <tr>\n",
              "      <th>88632</th>\n",
              "      <td>Inform me about my minit offer in this number</td>\n",
              "      <td>MicroVoiceOfferInfo</td>\n",
              "      <td>CheckSMSofferinfo</td>\n",
              "      <td>0</td>\n",
              "    </tr>\n",
              "    <tr>\n",
              "      <th>88633</th>\n",
              "      <td>Which menit offer are available in my number</td>\n",
              "      <td>MicroVoiceOfferInfo</td>\n",
              "      <td>CheckSMSofferinfo</td>\n",
              "      <td>0</td>\n",
              "    </tr>\n",
              "    <tr>\n",
              "      <th>88634</th>\n",
              "      <td>in this number any minute offer available?</td>\n",
              "      <td>MicroVoiceOfferInfo</td>\n",
              "      <td>CheckSMSofferinfo</td>\n",
              "      <td>0</td>\n",
              "    </tr>\n",
              "  </tbody>\n",
              "</table>\n",
              "<p>88635 rows × 4 columns</p>\n",
              "</div>"
            ],
            "text/plain": [
              "                                                Text  \\\n",
              "0                     Amar account e koto taka ache?   \n",
              "1                 Ami account balance kivabe dekhbo?   \n",
              "2                        Amar koto taka balance ase?   \n",
              "3                               Amar koto taka ache?   \n",
              "4                           Account er balance bolen   \n",
              "...                                              ...   \n",
              "88630    What special minit offer there in my number   \n",
              "88631               Any minit offer are in my number   \n",
              "88632  Inform me about my minit offer in this number   \n",
              "88633   Which menit offer are available in my number   \n",
              "88634     in this number any minute offer available?   \n",
              "\n",
              "                                  Intent               PRED  PRED_ACC  \n",
              "0      checkavailablebalanceand validity  CheckSMSofferinfo         0  \n",
              "1      checkavailablebalanceand validity  CheckSMSofferinfo         0  \n",
              "2      checkavailablebalanceand validity  CheckSMSofferinfo         0  \n",
              "3      checkavailablebalanceand validity  CheckSMSofferinfo         0  \n",
              "4      checkavailablebalanceand validity  CheckSMSofferinfo         0  \n",
              "...                                  ...                ...       ...  \n",
              "88630                MicroVoiceOfferInfo  CheckSMSofferinfo         0  \n",
              "88631                MicroVoiceOfferInfo  CheckSMSofferinfo         0  \n",
              "88632                MicroVoiceOfferInfo  CheckSMSofferinfo         0  \n",
              "88633                MicroVoiceOfferInfo  CheckSMSofferinfo         0  \n",
              "88634                MicroVoiceOfferInfo  CheckSMSofferinfo         0  \n",
              "\n",
              "[88635 rows x 4 columns]"
            ]
          },
          "metadata": {
            "tags": []
          },
          "execution_count": 72
        }
      ]
    },
    {
      "cell_type": "markdown",
      "metadata": {
        "id": "LBgH1BqL1o2L"
      },
      "source": [
        "#Create a Basic BOT in telegram\r\n",
        "\r\n",
        "1. Type \"BotFather\" in telegram search bar. You will find a bot named \"BotFather\". Type \"/newbot\"  and it will give following response \"Alright, a new bot. How are we going to call it? Please choose a name for your bot.\"\r\n",
        "2. After giving a name of your bot it will give following message \"Good. Now let's choose a username for your bot. It must end in `bot`. Like this, for example: TetrisBot or tetris_bot.\"\r\n",
        "So, following above guidelines give a username of your bot. example of user name could be: GPdemoChatBot.  \r\n",
        "3. Done. Note token provided after step 2 when required in the upcoming steps. \r\n",
        "\r\n",
        "---\r\n",
        "\r\n"
      ]
    },
    {
      "cell_type": "markdown",
      "metadata": {
        "id": "TmtkbWK11gYn"
      },
      "source": [
        "# Finally Run the following cell and enjoy\r\n",
        "\r\n"
      ]
    },
    {
      "cell_type": "code",
      "metadata": {
        "id": "4UezPX_m1egX"
      },
      "source": [
        "#!pip install pyTelegramBotAPI\r\n",
        "#libraries\r\n",
        "import telebot\r\n",
        "import tensorflow as tf\r\n",
        "import numpy as np \r\n",
        "import pandas as pd \r\n",
        "from keras.preprocessing.text import Tokenizer\r\n",
        "from keras.preprocessing.sequence import pad_sequences\r\n",
        "# model load\r\n",
        "model=tf.keras.models.load_model('/content/drive/MyDrive/gp_chatbot.h5')# plz customize path for your case \r\n",
        "# tokenizing\r\n",
        "data=pd.read_csv(\"/content/drive/MyDrive/to_english.csv\")\r\n",
        "data=data.iloc[:,1:3]\r\n",
        "data.columns=[\"Text\",\"Intent\"]\r\n",
        "max_fatures =2000\r\n",
        "\r\n",
        "API_TOKEN = '1525093601:AAGeK8859-JyAjn_jMu_0Fwu97WCq2foEQs'\r\n",
        "\r\n",
        "bot = telebot.TeleBot(API_TOKEN)\r\n",
        "\r\n",
        "\r\n",
        "# Handle '/start' and '/help'\r\n",
        "@bot.message_handler(commands=['help', 'start'])\r\n",
        "def send_welcome(message):\r\n",
        "    bot.reply_to(message, \"\"\"\\\r\n",
        "Hi there, I am GP ChatBoT.\r\n",
        "I am here to answer your query!\\\r\n",
        "\"\"\")\r\n",
        "\r\n",
        "\r\n",
        "# Handle all other messages with content_type 'text' (content_types defaults to ['text'])\r\n",
        "@bot.message_handler(func=lambda message: True)\r\n",
        "def echo_message(message):\r\n",
        "    if pd.Series(message.text).isin(['HI','Hi','hi','hI','hello','Hello','HELLO']).bool(): \r\n",
        "      bot.reply_to(message,'Hi there ! I am here to answer your queries. Please let me know how can I help you')\r\n",
        "    else:\r\n",
        "      tokenizer = Tokenizer(num_words=max_fatures, split=' ')\r\n",
        "      tokenizer.fit_on_texts(data.Text)\r\n",
        "      columns=pd.get_dummies(data.Intent,prefix_sep='a').columns\r\n",
        "\r\n",
        "      \r\n",
        "      twt = tokenizer.texts_to_sequences(message.text)\r\n",
        "    \r\n",
        "      twt = pad_sequences(twt,padding='post',maxlen=23,value=0.0,dtype='int32')\r\n",
        "      sentiment = model.predict(twt)\r\n",
        "      bot.reply_to(message, columns[pd.DataFrame(sentiment).idxmax(axis=1)][0])\r\n",
        "\r\n",
        "bot.polling()\r\n",
        "while True:pass"
      ],
      "execution_count": null,
      "outputs": []
    },
    {
      "cell_type": "markdown",
      "metadata": {
        "id": "nQ515IVhWbmA"
      },
      "source": [
        "# Convert all text to English"
      ]
    },
    {
      "cell_type": "code",
      "metadata": {
        "id": "Op3NA-aZnAhL"
      },
      "source": [
        "#!pip install google_trans_new\r\n",
        "\r\n",
        "from google_trans_new import google_translator  \r\n",
        "translator = google_translator()  \r\n",
        "trans=[]\r\n",
        "l=0\r\n",
        "for i in data.iloc[:,0]:\r\n",
        "  trans.append(translator.translate(i,lang_tgt='en')) \r\n",
        "  l=l+1 \r\n",
        "  print(l)"
      ],
      "execution_count": null,
      "outputs": []
    }
  ]
}