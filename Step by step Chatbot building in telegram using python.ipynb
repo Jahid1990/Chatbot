{
  "nbformat": 4,
  "nbformat_minor": 0,
  "metadata": {
    "accelerator": "GPU",
    "colab": {
      "name": "GP Chatbot_bengali.ipynb",
      "provenance": [],
      "collapsed_sections": [],
      "mount_file_id": "1P-7r11W5ltXXwy27vVdc9X1Eyf-AnLH9",
      "authorship_tag": "ABX9TyOxcLeqyOXwkbJ8h8uXXBCz",
      "include_colab_link": true
    },
    "kernelspec": {
      "display_name": "Python 3",
      "name": "python3"
    }
  },
  "cells": [
    {
      "cell_type": "markdown",
      "metadata": {
        "id": "view-in-github",
        "colab_type": "text"
      },
      "source": [
        "<a href=\"https://colab.research.google.com/github/Jahid1990/Chatbot/blob/main/Step%20by%20step%20Chatbot%20building%20in%20telegram%20using%20python.ipynb\" target=\"_parent\"><img src=\"https://colab.research.google.com/assets/colab-badge.svg\" alt=\"Open In Colab\"/></a>"
      ]
    },
    {
      "cell_type": "markdown",
      "metadata": {
        "id": "q3JQQzjaV2kq"
      },
      "source": [
        "# ChatBoT\r\n",
        "\r\n",
        "In this notebook, I will try to demostrate end to end  building process of telegram chatbot based in python. Chatbot has 3 parts if I breakdown components of a basic chatbot. \r\n",
        "\r\n",
        "1. Input\r\n",
        "2. Understanding the Input\r\n",
        "3. Provide answer based on  understanding the Input\r\n",
        "\r\n",
        "I will use telegram as interface- to take input and show output, deep learning LSTM model to understand the Intent of the input.\r\n",
        "\r\n",
        "lets explore......"
      ]
    },
    {
      "cell_type": "markdown",
      "metadata": {
        "id": "EVZNVRpQygpl"
      },
      "source": [
        "# Required python libraries"
      ]
    },
    {
      "cell_type": "code",
      "metadata": {
        "id": "w4QLF21nLfIk"
      },
      "source": [
        "# !pip install bnlp_toolkit\r\n",
        "import numpy as np # linear algebra\r\n",
        "import pandas as pd \r\n",
        "import tensorflow as tf\r\n",
        "from sklearn.feature_extraction.text import CountVectorizer\r\n",
        "from keras.preprocessing.text import Tokenizer\r\n",
        "from keras.preprocessing.sequence import pad_sequences\r\n",
        "from tensorflow.keras.callbacks import ModelCheckpoint\r\n",
        "from keras.models import Sequential\r\n",
        "from keras.layers import Dense, Embedding, LSTM, SpatialDropout1D\r\n",
        "from sklearn.model_selection import train_test_split\r\n",
        "from keras.utils.np_utils import to_categorical\r\n",
        "import re\r\n",
        "pd.set_option(\"display.max_rows\", 50000, \"display.max_columns\", 500)"
      ],
      "execution_count": null,
      "outputs": []
    },
    {
      "cell_type": "markdown",
      "metadata": {
        "id": "EWT1L4KAzSQO"
      },
      "source": [
        "# Training Data loading\r\n",
        "\r\n",
        "I have around 88k queries and corresponding answers of that queries. I used this dataset for building this chatbot. Questions and answers would be limited to this dataset.*italicized text* "
      ]
    },
    {
      "cell_type": "code",
      "metadata": {
        "colab": {
          "base_uri": "https://localhost:8080/",
          "height": 200
        },
        "id": "LxWMhFB-Friy",
        "outputId": "829fe185-d06e-4134-91cd-7889a10e8b4b"
      },
      "source": [
        "data=pd.read_csv(\"/content/drive/MyDrive/to_english.csv\")\r\n",
        "data=data.iloc[:,1:3]\r\n",
        "data.columns=[\"Text\",\"Intent\"]\r\n",
        "data.head()"
      ],
      "execution_count": null,
      "outputs": [
        {
          "output_type": "execute_result",
          "data": {
            "text/html": [
              "<div>\n",
              "<style scoped>\n",
              "    .dataframe tbody tr th:only-of-type {\n",
              "        vertical-align: middle;\n",
              "    }\n",
              "\n",
              "    .dataframe tbody tr th {\n",
              "        vertical-align: top;\n",
              "    }\n",
              "\n",
              "    .dataframe thead th {\n",
              "        text-align: right;\n",
              "    }\n",
              "</style>\n",
              "<table border=\"1\" class=\"dataframe\">\n",
              "  <thead>\n",
              "    <tr style=\"text-align: right;\">\n",
              "      <th></th>\n",
              "      <th>Text</th>\n",
              "      <th>Intent</th>\n",
              "    </tr>\n",
              "  </thead>\n",
              "  <tbody>\n",
              "    <tr>\n",
              "      <th>0</th>\n",
              "      <td>Amar account e koto taka ache?</td>\n",
              "      <td>checkavailablebalanceand validity</td>\n",
              "    </tr>\n",
              "    <tr>\n",
              "      <th>1</th>\n",
              "      <td>Ami account balance kivabe dekhbo?</td>\n",
              "      <td>checkavailablebalanceand validity</td>\n",
              "    </tr>\n",
              "    <tr>\n",
              "      <th>2</th>\n",
              "      <td>Amar koto taka balance ase?</td>\n",
              "      <td>checkavailablebalanceand validity</td>\n",
              "    </tr>\n",
              "    <tr>\n",
              "      <th>3</th>\n",
              "      <td>Amar koto taka ache?</td>\n",
              "      <td>checkavailablebalanceand validity</td>\n",
              "    </tr>\n",
              "    <tr>\n",
              "      <th>4</th>\n",
              "      <td>Account er balance bolen</td>\n",
              "      <td>checkavailablebalanceand validity</td>\n",
              "    </tr>\n",
              "  </tbody>\n",
              "</table>\n",
              "</div>"
            ],
            "text/plain": [
              "                                 Text                             Intent\n",
              "0      Amar account e koto taka ache?  checkavailablebalanceand validity\n",
              "1  Ami account balance kivabe dekhbo?  checkavailablebalanceand validity\n",
              "2         Amar koto taka balance ase?  checkavailablebalanceand validity\n",
              "3                Amar koto taka ache?  checkavailablebalanceand validity\n",
              "4            Account er balance bolen  checkavailablebalanceand validity"
            ]
          },
          "metadata": {
            "tags": []
          },
          "execution_count": 2
        }
      ]
    },
    {
      "cell_type": "markdown",
      "metadata": {
        "id": "ci4iHm75W9tI"
      },
      "source": [
        "# Text Processsing\r\n",
        "\r\n",
        "Did not know that keras provide such wonderful functions for text processing. There are some few other libraries in pyhton which explored some of them but to me keras is awesome for its simplicity. I am happy using keras for text processing as well as training our intent understanding model.\r\n",
        "\r\n",
        "following cells could be titled as follows:\r\n",
        "\r\n",
        "1. Tokenizing, Sequencing and Padding\r\n",
        "2. Train Test Splitting\r\n",
        "3. Model Architecture\r\n",
        "4. Compliling the mode along with loss function definition\r\n",
        "5. Training model "
      ]
    },
    {
      "cell_type": "code",
      "metadata": {
        "id": "oJF9ngVAEKtZ"
      },
      "source": [
        "max_fatures =2000\r\n",
        "tokenizer = Tokenizer(num_words=max_fatures, split=' ',char_level=True)\r\n",
        "tokenizer.fit_on_texts(data['Text'].values)\r\n",
        "#tokenizer.index_word=dict(pd.Series(tokenizer.index_word.values())[~pd.Series(tokenizer.index_word.values()).isin(stop_words)])\r\n",
        "X = tokenizer.texts_to_sequences(data['Text'].values)\r\n",
        "X = pad_sequences(X,padding='post')"
      ],
      "execution_count": null,
      "outputs": []
    },
    {
      "cell_type": "code",
      "metadata": {
        "colab": {
          "base_uri": "https://localhost:8080/"
        },
        "id": "Oc8q9tNRIOQz",
        "outputId": "dffcaa29-cb5b-4000-9854-4dba66fa9270"
      },
      "source": [
        "Y = pd.get_dummies(data['Intent'],prefix_sep='a')\r\n",
        "X_train, X_test, Y_train, Y_test = train_test_split(X,Y, test_size = 0.33, random_state = 42)\r\n",
        "print(X_train.shape,Y_train.shape)\r\n",
        "print(X_test.shape,Y_test.shape)"
      ],
      "execution_count": null,
      "outputs": [
        {
          "output_type": "stream",
          "text": [
            "(59385, 102) (59385, 33)\n",
            "(29250, 102) (29250, 33)\n"
          ],
          "name": "stdout"
        }
      ]
    },
    {
      "cell_type": "code",
      "metadata": {
        "colab": {
          "base_uri": "https://localhost:8080/"
        },
        "id": "Y2SV4VGjzBVu",
        "outputId": "dbf60718-d429-4609-8e81-e8b8acd5e449"
      },
      "source": [
        "embed_dim = 196\r\n",
        "lstm_out = 200\r\n",
        "\r\n",
        "model = Sequential()\r\n",
        "model.add(Embedding(max_fatures, embed_dim, input_length = X.shape[1]))\r\n",
        "model.add(SpatialDropout1D(0.4))\r\n",
        "model.add(LSTM(lstm_out, dropout=0.2, return_sequences=True))\r\n",
        "# model.add(LSTM(lstm_out, dropout=0.2, return_sequences=True))\r\n",
        "# model.add(LSTM(lstm_out, dropout=0.2))\r\n",
        "model.add(tf.keras.layers.Flatten())\r\n",
        "model.add(Dense(Y_train.shape[1],activation='softmax'))\r\n",
        "model.compile(loss = 'categorical_crossentropy', optimizer='adam',metrics = ['accuracy'])\r\n",
        "print(model.summary())"
      ],
      "execution_count": null,
      "outputs": [
        {
          "output_type": "stream",
          "text": [
            "Model: \"sequential_3\"\n",
            "_________________________________________________________________\n",
            "Layer (type)                 Output Shape              Param #   \n",
            "=================================================================\n",
            "embedding_3 (Embedding)      (None, 102, 196)          392000    \n",
            "_________________________________________________________________\n",
            "spatial_dropout1d (SpatialDr (None, 102, 196)          0         \n",
            "_________________________________________________________________\n",
            "lstm (LSTM)                  (None, 102, 200)          317600    \n",
            "_________________________________________________________________\n",
            "flatten_2 (Flatten)          (None, 20400)             0         \n",
            "_________________________________________________________________\n",
            "dense_2 (Dense)              (None, 33)                673233    \n",
            "=================================================================\n",
            "Total params: 1,382,833\n",
            "Trainable params: 1,382,833\n",
            "Non-trainable params: 0\n",
            "_________________________________________________________________\n",
            "None\n"
          ],
          "name": "stdout"
        }
      ]
    },
    {
      "cell_type": "code",
      "metadata": {
        "id": "fu0XkI0qJEpU"
      },
      "source": [
        "import tensorflow as tf\r\n",
        "learn_rate = 0.0001\r\n",
        "optim = tf.keras.optimizers.Adam(lr=learn_rate, decay=1e-5)\r\n",
        "checkpointer = ModelCheckpoint(filepath='/content/drive/MyDrive/gp_chatbot.h5', verbose=1, save_best_only=True)\r\n",
        "model.compile(loss='categorical_crossentropy', optimizer=optim, metrics=['accuracy'])"
      ],
      "execution_count": null,
      "outputs": []
    },
    {
      "cell_type": "code",
      "metadata": {
        "id": "GiGjCF0ydchv",
        "colab": {
          "base_uri": "https://localhost:8080/"
        },
        "outputId": "e928731e-bb2c-493f-d2c4-34b25020c749"
      },
      "source": [
        "batch_size = 512\r\n",
        "learn_rate = 0.0001\r\n",
        "optim = tf.keras.optimizers.Adam(lr=learn_rate, decay=1e-5)\r\n",
        "model.fit(X_train, Y_train, epochs = 100, batch_size=batch_size,validation_split=.2, verbose = 1)"
      ],
      "execution_count": null,
      "outputs": [
        {
          "output_type": "stream",
          "text": [
            "Epoch 1/100\n",
            "93/93 [==============================] - 7s 78ms/step - loss: 0.0206 - accuracy: 0.9932 - val_loss: 0.0823 - val_accuracy: 0.9779\n",
            "Epoch 2/100\n",
            "93/93 [==============================] - 5s 57ms/step - loss: 0.0198 - accuracy: 0.9931 - val_loss: 0.0772 - val_accuracy: 0.9798\n",
            "Epoch 3/100\n",
            "93/93 [==============================] - 5s 57ms/step - loss: 0.0204 - accuracy: 0.9930 - val_loss: 0.0771 - val_accuracy: 0.9784\n",
            "Epoch 4/100\n",
            "93/93 [==============================] - 5s 57ms/step - loss: 0.0196 - accuracy: 0.9934 - val_loss: 0.0762 - val_accuracy: 0.9789\n",
            "Epoch 5/100\n",
            "93/93 [==============================] - 5s 56ms/step - loss: 0.0192 - accuracy: 0.9936 - val_loss: 0.0790 - val_accuracy: 0.9788\n",
            "Epoch 6/100\n",
            "93/93 [==============================] - 5s 57ms/step - loss: 0.0186 - accuracy: 0.9937 - val_loss: 0.0766 - val_accuracy: 0.9796\n",
            "Epoch 7/100\n",
            "93/93 [==============================] - 5s 57ms/step - loss: 0.0184 - accuracy: 0.9940 - val_loss: 0.0773 - val_accuracy: 0.9783\n",
            "Epoch 8/100\n",
            "93/93 [==============================] - 5s 57ms/step - loss: 0.0196 - accuracy: 0.9936 - val_loss: 0.0780 - val_accuracy: 0.9794\n",
            "Epoch 9/100\n",
            "93/93 [==============================] - 5s 57ms/step - loss: 0.0174 - accuracy: 0.9943 - val_loss: 0.0775 - val_accuracy: 0.9796\n",
            "Epoch 10/100\n",
            "93/93 [==============================] - 5s 57ms/step - loss: 0.0172 - accuracy: 0.9941 - val_loss: 0.0848 - val_accuracy: 0.9777\n",
            "Epoch 11/100\n",
            "93/93 [==============================] - 5s 57ms/step - loss: 0.0173 - accuracy: 0.9940 - val_loss: 0.0759 - val_accuracy: 0.9795\n",
            "Epoch 12/100\n",
            "93/93 [==============================] - 5s 57ms/step - loss: 0.0168 - accuracy: 0.9946 - val_loss: 0.0785 - val_accuracy: 0.9800\n",
            "Epoch 13/100\n",
            "93/93 [==============================] - 5s 58ms/step - loss: 0.0173 - accuracy: 0.9940 - val_loss: 0.0788 - val_accuracy: 0.9798\n",
            "Epoch 14/100\n",
            "93/93 [==============================] - 5s 58ms/step - loss: 0.0169 - accuracy: 0.9942 - val_loss: 0.0795 - val_accuracy: 0.9793\n",
            "Epoch 15/100\n",
            "93/93 [==============================] - 6s 60ms/step - loss: 0.0162 - accuracy: 0.9946 - val_loss: 0.0758 - val_accuracy: 0.9800\n",
            "Epoch 16/100\n",
            "93/93 [==============================] - 5s 58ms/step - loss: 0.0159 - accuracy: 0.9947 - val_loss: 0.0753 - val_accuracy: 0.9807\n",
            "Epoch 17/100\n",
            "93/93 [==============================] - 5s 58ms/step - loss: 0.0158 - accuracy: 0.9946 - val_loss: 0.0756 - val_accuracy: 0.9795\n",
            "Epoch 18/100\n",
            "93/93 [==============================] - 5s 57ms/step - loss: 0.0157 - accuracy: 0.9946 - val_loss: 0.0747 - val_accuracy: 0.9800\n",
            "Epoch 19/100\n",
            "93/93 [==============================] - 5s 58ms/step - loss: 0.0163 - accuracy: 0.9942 - val_loss: 0.0757 - val_accuracy: 0.9795\n",
            "Epoch 20/100\n",
            "93/93 [==============================] - 5s 58ms/step - loss: 0.0156 - accuracy: 0.9947 - val_loss: 0.0800 - val_accuracy: 0.9794\n",
            "Epoch 21/100\n",
            "93/93 [==============================] - 5s 58ms/step - loss: 0.0154 - accuracy: 0.9947 - val_loss: 0.0742 - val_accuracy: 0.9800\n",
            "Epoch 22/100\n",
            "93/93 [==============================] - 5s 58ms/step - loss: 0.0156 - accuracy: 0.9948 - val_loss: 0.0763 - val_accuracy: 0.9804\n",
            "Epoch 23/100\n",
            "93/93 [==============================] - 5s 58ms/step - loss: 0.0151 - accuracy: 0.9950 - val_loss: 0.0763 - val_accuracy: 0.9800\n",
            "Epoch 24/100\n",
            "93/93 [==============================] - 5s 57ms/step - loss: 0.0150 - accuracy: 0.9948 - val_loss: 0.0814 - val_accuracy: 0.9800\n",
            "Epoch 25/100\n",
            "93/93 [==============================] - 5s 58ms/step - loss: 0.0161 - accuracy: 0.9944 - val_loss: 0.0775 - val_accuracy: 0.9789\n",
            "Epoch 26/100\n",
            "93/93 [==============================] - 5s 57ms/step - loss: 0.0153 - accuracy: 0.9947 - val_loss: 0.0767 - val_accuracy: 0.9800\n",
            "Epoch 27/100\n",
            "93/93 [==============================] - 5s 57ms/step - loss: 0.0135 - accuracy: 0.9954 - val_loss: 0.0751 - val_accuracy: 0.9806\n",
            "Epoch 28/100\n",
            "93/93 [==============================] - 5s 58ms/step - loss: 0.0138 - accuracy: 0.9952 - val_loss: 0.0735 - val_accuracy: 0.9803\n",
            "Epoch 29/100\n",
            "93/93 [==============================] - 5s 58ms/step - loss: 0.0149 - accuracy: 0.9949 - val_loss: 0.0801 - val_accuracy: 0.9808\n",
            "Epoch 30/100\n",
            "93/93 [==============================] - 5s 58ms/step - loss: 0.0138 - accuracy: 0.9954 - val_loss: 0.0753 - val_accuracy: 0.9806\n",
            "Epoch 31/100\n",
            "93/93 [==============================] - 5s 57ms/step - loss: 0.0142 - accuracy: 0.9951 - val_loss: 0.0766 - val_accuracy: 0.9811\n",
            "Epoch 32/100\n",
            "93/93 [==============================] - 5s 57ms/step - loss: 0.0131 - accuracy: 0.9955 - val_loss: 0.0817 - val_accuracy: 0.9803\n",
            "Epoch 33/100\n",
            "93/93 [==============================] - 5s 57ms/step - loss: 0.0133 - accuracy: 0.9955 - val_loss: 0.0786 - val_accuracy: 0.9806\n",
            "Epoch 34/100\n",
            "93/93 [==============================] - 5s 57ms/step - loss: 0.0132 - accuracy: 0.9951 - val_loss: 0.0797 - val_accuracy: 0.9799\n",
            "Epoch 35/100\n",
            "93/93 [==============================] - 5s 57ms/step - loss: 0.0133 - accuracy: 0.9953 - val_loss: 0.0780 - val_accuracy: 0.9798\n",
            "Epoch 36/100\n",
            "93/93 [==============================] - 5s 57ms/step - loss: 0.0143 - accuracy: 0.9952 - val_loss: 0.0776 - val_accuracy: 0.9806\n",
            "Epoch 37/100\n",
            "93/93 [==============================] - 5s 57ms/step - loss: 0.0121 - accuracy: 0.9959 - val_loss: 0.0762 - val_accuracy: 0.9799\n",
            "Epoch 38/100\n",
            "93/93 [==============================] - 5s 57ms/step - loss: 0.0129 - accuracy: 0.9955 - val_loss: 0.0762 - val_accuracy: 0.9813\n",
            "Epoch 39/100\n",
            "93/93 [==============================] - 5s 57ms/step - loss: 0.0125 - accuracy: 0.9958 - val_loss: 0.0755 - val_accuracy: 0.9800\n",
            "Epoch 40/100\n",
            "93/93 [==============================] - 5s 57ms/step - loss: 0.0129 - accuracy: 0.9954 - val_loss: 0.0780 - val_accuracy: 0.9803\n",
            "Epoch 41/100\n",
            "93/93 [==============================] - 5s 57ms/step - loss: 0.0131 - accuracy: 0.9955 - val_loss: 0.0792 - val_accuracy: 0.9798\n",
            "Epoch 42/100\n",
            "93/93 [==============================] - 5s 57ms/step - loss: 0.0127 - accuracy: 0.9954 - val_loss: 0.0743 - val_accuracy: 0.9811\n",
            "Epoch 43/100\n",
            "93/93 [==============================] - 5s 57ms/step - loss: 0.0120 - accuracy: 0.9960 - val_loss: 0.0815 - val_accuracy: 0.9796\n",
            "Epoch 44/100\n",
            "93/93 [==============================] - 5s 58ms/step - loss: 0.0124 - accuracy: 0.9957 - val_loss: 0.0798 - val_accuracy: 0.9806\n",
            "Epoch 45/100\n",
            "93/93 [==============================] - 5s 57ms/step - loss: 0.0125 - accuracy: 0.9959 - val_loss: 0.0752 - val_accuracy: 0.9808\n",
            "Epoch 46/100\n",
            "93/93 [==============================] - 5s 58ms/step - loss: 0.0127 - accuracy: 0.9953 - val_loss: 0.0760 - val_accuracy: 0.9811\n",
            "Epoch 47/100\n",
            "93/93 [==============================] - 5s 57ms/step - loss: 0.0106 - accuracy: 0.9965 - val_loss: 0.0763 - val_accuracy: 0.9811\n",
            "Epoch 48/100\n",
            "93/93 [==============================] - 5s 57ms/step - loss: 0.0117 - accuracy: 0.9962 - val_loss: 0.0801 - val_accuracy: 0.9814\n",
            "Epoch 49/100\n",
            "93/93 [==============================] - 5s 57ms/step - loss: 0.0119 - accuracy: 0.9957 - val_loss: 0.0801 - val_accuracy: 0.9809\n",
            "Epoch 50/100\n",
            "93/93 [==============================] - 5s 57ms/step - loss: 0.0113 - accuracy: 0.9962 - val_loss: 0.0824 - val_accuracy: 0.9806\n",
            "Epoch 51/100\n",
            "93/93 [==============================] - 5s 58ms/step - loss: 0.0114 - accuracy: 0.9960 - val_loss: 0.0757 - val_accuracy: 0.9805\n",
            "Epoch 52/100\n",
            "93/93 [==============================] - 5s 57ms/step - loss: 0.0113 - accuracy: 0.9959 - val_loss: 0.0758 - val_accuracy: 0.9811\n",
            "Epoch 53/100\n",
            "93/93 [==============================] - 5s 57ms/step - loss: 0.0100 - accuracy: 0.9963 - val_loss: 0.0758 - val_accuracy: 0.9818\n",
            "Epoch 54/100\n",
            "93/93 [==============================] - 5s 57ms/step - loss: 0.0114 - accuracy: 0.9962 - val_loss: 0.0792 - val_accuracy: 0.9814\n",
            "Epoch 55/100\n",
            "93/93 [==============================] - 5s 58ms/step - loss: 0.0114 - accuracy: 0.9956 - val_loss: 0.0791 - val_accuracy: 0.9810\n",
            "Epoch 56/100\n",
            "93/93 [==============================] - 5s 58ms/step - loss: 0.0102 - accuracy: 0.9963 - val_loss: 0.0805 - val_accuracy: 0.9820\n",
            "Epoch 57/100\n",
            "93/93 [==============================] - 5s 58ms/step - loss: 0.0096 - accuracy: 0.9967 - val_loss: 0.0804 - val_accuracy: 0.9813\n",
            "Epoch 58/100\n",
            "93/93 [==============================] - 5s 58ms/step - loss: 0.0105 - accuracy: 0.9962 - val_loss: 0.0774 - val_accuracy: 0.9806\n",
            "Epoch 59/100\n",
            "93/93 [==============================] - 5s 58ms/step - loss: 0.0096 - accuracy: 0.9963 - val_loss: 0.0796 - val_accuracy: 0.9811\n",
            "Epoch 60/100\n",
            "93/93 [==============================] - 5s 58ms/step - loss: 0.0103 - accuracy: 0.9965 - val_loss: 0.0819 - val_accuracy: 0.9801\n",
            "Epoch 61/100\n",
            "93/93 [==============================] - 5s 58ms/step - loss: 0.0110 - accuracy: 0.9962 - val_loss: 0.0797 - val_accuracy: 0.9809\n",
            "Epoch 62/100\n",
            "93/93 [==============================] - 5s 59ms/step - loss: 0.0096 - accuracy: 0.9966 - val_loss: 0.0816 - val_accuracy: 0.9803\n",
            "Epoch 63/100\n",
            "93/93 [==============================] - 5s 58ms/step - loss: 0.0095 - accuracy: 0.9969 - val_loss: 0.0760 - val_accuracy: 0.9814\n",
            "Epoch 64/100\n",
            "93/93 [==============================] - 5s 59ms/step - loss: 0.0108 - accuracy: 0.9963 - val_loss: 0.0764 - val_accuracy: 0.9810\n",
            "Epoch 65/100\n",
            "93/93 [==============================] - 5s 58ms/step - loss: 0.0105 - accuracy: 0.9962 - val_loss: 0.0772 - val_accuracy: 0.9815\n",
            "Epoch 66/100\n",
            "93/93 [==============================] - 5s 58ms/step - loss: 0.0098 - accuracy: 0.9968 - val_loss: 0.0815 - val_accuracy: 0.9804\n",
            "Epoch 67/100\n",
            "93/93 [==============================] - 5s 58ms/step - loss: 0.0091 - accuracy: 0.9967 - val_loss: 0.0753 - val_accuracy: 0.9807\n",
            "Epoch 68/100\n",
            "93/93 [==============================] - 5s 58ms/step - loss: 0.0101 - accuracy: 0.9964 - val_loss: 0.0795 - val_accuracy: 0.9803\n",
            "Epoch 69/100\n",
            "93/93 [==============================] - 5s 57ms/step - loss: 0.0095 - accuracy: 0.9968 - val_loss: 0.0792 - val_accuracy: 0.9816\n",
            "Epoch 70/100\n",
            "93/93 [==============================] - 5s 57ms/step - loss: 0.0092 - accuracy: 0.9965 - val_loss: 0.0787 - val_accuracy: 0.9812\n",
            "Epoch 71/100\n",
            "93/93 [==============================] - 5s 57ms/step - loss: 0.0087 - accuracy: 0.9967 - val_loss: 0.0792 - val_accuracy: 0.9809\n",
            "Epoch 72/100\n",
            "93/93 [==============================] - 5s 57ms/step - loss: 0.0102 - accuracy: 0.9963 - val_loss: 0.0783 - val_accuracy: 0.9808\n",
            "Epoch 73/100\n",
            "93/93 [==============================] - 5s 57ms/step - loss: 0.0101 - accuracy: 0.9963 - val_loss: 0.0790 - val_accuracy: 0.9807\n",
            "Epoch 74/100\n",
            "93/93 [==============================] - 5s 57ms/step - loss: 0.0085 - accuracy: 0.9970 - val_loss: 0.0773 - val_accuracy: 0.9816\n",
            "Epoch 75/100\n",
            "93/93 [==============================] - 5s 59ms/step - loss: 0.0098 - accuracy: 0.9966 - val_loss: 0.0775 - val_accuracy: 0.9814\n",
            "Epoch 76/100\n",
            "93/93 [==============================] - 5s 59ms/step - loss: 0.0086 - accuracy: 0.9968 - val_loss: 0.0798 - val_accuracy: 0.9818\n",
            "Epoch 77/100\n",
            "93/93 [==============================] - 5s 57ms/step - loss: 0.0096 - accuracy: 0.9965 - val_loss: 0.0817 - val_accuracy: 0.9815\n",
            "Epoch 78/100\n",
            "93/93 [==============================] - 5s 57ms/step - loss: 0.0095 - accuracy: 0.9964 - val_loss: 0.0776 - val_accuracy: 0.9815\n",
            "Epoch 79/100\n",
            "93/93 [==============================] - 5s 57ms/step - loss: 0.0081 - accuracy: 0.9970 - val_loss: 0.0779 - val_accuracy: 0.9818\n",
            "Epoch 80/100\n",
            "93/93 [==============================] - 5s 58ms/step - loss: 0.0087 - accuracy: 0.9967 - val_loss: 0.0777 - val_accuracy: 0.9814\n",
            "Epoch 81/100\n",
            "93/93 [==============================] - 5s 58ms/step - loss: 0.0090 - accuracy: 0.9967 - val_loss: 0.0835 - val_accuracy: 0.9807\n",
            "Epoch 82/100\n",
            "93/93 [==============================] - 5s 58ms/step - loss: 0.0087 - accuracy: 0.9968 - val_loss: 0.0798 - val_accuracy: 0.9809\n",
            "Epoch 83/100\n",
            "93/93 [==============================] - 5s 58ms/step - loss: 0.0100 - accuracy: 0.9964 - val_loss: 0.0746 - val_accuracy: 0.9825\n",
            "Epoch 84/100\n",
            "93/93 [==============================] - 5s 58ms/step - loss: 0.0083 - accuracy: 0.9970 - val_loss: 0.0773 - val_accuracy: 0.9822\n",
            "Epoch 85/100\n",
            "93/93 [==============================] - 5s 58ms/step - loss: 0.0094 - accuracy: 0.9967 - val_loss: 0.0769 - val_accuracy: 0.9818\n",
            "Epoch 86/100\n",
            "93/93 [==============================] - 5s 59ms/step - loss: 0.0087 - accuracy: 0.9966 - val_loss: 0.0738 - val_accuracy: 0.9831\n",
            "Epoch 87/100\n",
            "93/93 [==============================] - 5s 59ms/step - loss: 0.0085 - accuracy: 0.9970 - val_loss: 0.0767 - val_accuracy: 0.9823\n",
            "Epoch 88/100\n",
            "93/93 [==============================] - 5s 59ms/step - loss: 0.0088 - accuracy: 0.9969 - val_loss: 0.0773 - val_accuracy: 0.9815\n",
            "Epoch 89/100\n",
            "93/93 [==============================] - 5s 58ms/step - loss: 0.0080 - accuracy: 0.9969 - val_loss: 0.0796 - val_accuracy: 0.9816\n",
            "Epoch 90/100\n",
            "93/93 [==============================] - 5s 58ms/step - loss: 0.0086 - accuracy: 0.9967 - val_loss: 0.0788 - val_accuracy: 0.9819\n",
            "Epoch 91/100\n",
            "93/93 [==============================] - 5s 58ms/step - loss: 0.0092 - accuracy: 0.9966 - val_loss: 0.0784 - val_accuracy: 0.9816\n",
            "Epoch 92/100\n",
            "93/93 [==============================] - 5s 58ms/step - loss: 0.0082 - accuracy: 0.9971 - val_loss: 0.0792 - val_accuracy: 0.9831\n",
            "Epoch 93/100\n",
            "93/93 [==============================] - 5s 58ms/step - loss: 0.0078 - accuracy: 0.9970 - val_loss: 0.0767 - val_accuracy: 0.9827\n",
            "Epoch 94/100\n",
            "93/93 [==============================] - 5s 59ms/step - loss: 0.0081 - accuracy: 0.9971 - val_loss: 0.0788 - val_accuracy: 0.9820\n",
            "Epoch 95/100\n",
            "93/93 [==============================] - 5s 59ms/step - loss: 0.0083 - accuracy: 0.9968 - val_loss: 0.0779 - val_accuracy: 0.9822\n",
            "Epoch 96/100\n",
            "93/93 [==============================] - 5s 58ms/step - loss: 0.0084 - accuracy: 0.9967 - val_loss: 0.0787 - val_accuracy: 0.9815\n",
            "Epoch 97/100\n",
            "93/93 [==============================] - 5s 58ms/step - loss: 0.0084 - accuracy: 0.9968 - val_loss: 0.0765 - val_accuracy: 0.9829\n",
            "Epoch 98/100\n",
            "93/93 [==============================] - 5s 59ms/step - loss: 0.0081 - accuracy: 0.9971 - val_loss: 0.0751 - val_accuracy: 0.9829\n",
            "Epoch 99/100\n",
            "93/93 [==============================] - 5s 58ms/step - loss: 0.0084 - accuracy: 0.9969 - val_loss: 0.0790 - val_accuracy: 0.9825\n",
            "Epoch 100/100\n",
            "93/93 [==============================] - 5s 59ms/step - loss: 0.0076 - accuracy: 0.9974 - val_loss: 0.0788 - val_accuracy: 0.9828\n"
          ],
          "name": "stdout"
        },
        {
          "output_type": "execute_result",
          "data": {
            "text/plain": [
              "<tensorflow.python.keras.callbacks.History at 0x7feb95839240>"
            ]
          },
          "metadata": {
            "tags": []
          },
          "execution_count": 17
        }
      ]
    },
    {
      "cell_type": "markdown",
      "metadata": {
        "id": "OIwAdoVW2Kac"
      },
      "source": [
        "#Evaluation"
      ]
    },
    {
      "cell_type": "code",
      "metadata": {
        "id": "cc7CiOLIKP-K"
      },
      "source": [
        "from sklearn.metrics import classification_report\r\n",
        "import tensorflow as tf\r\n",
        "model=tf.keras.models.load_model('/content/drive/MyDrive/gp_chatbot.h5')\r\n",
        "pred=model.predict(X_test)                                                                                                                                                                          \r\n",
        "pred=np.argmax(pred,axis=1)\r\n",
        "act=np.argmax(Y_test.to_numpy(),axis=1)\r\n",
        "print(classification_report(pred, act))"
      ],
      "execution_count": null,
      "outputs": []
    },
    {
      "cell_type": "code",
      "metadata": {
        "id": "dSYFSaveIUOG",
        "colab": {
          "base_uri": "https://localhost:8080/",
          "height": 411
        },
        "outputId": "d2034bfe-9c6b-46ca-a479-e6861d995919"
      },
      "source": [
        "data[\"PRED\"]=Y_test.columns[pd.DataFrame(pred).idxmax(axis=1)]\r\n",
        "data[\"PRED_ACC\"]=np.where(data.Intent==data.PRED,1,0)\r\n",
        "data[\"PRED_ACC\"].value_counts()/data.shape[0]*100\r\n",
        "data"
      ],
      "execution_count": null,
      "outputs": [
        {
          "output_type": "execute_result",
          "data": {
            "text/html": [
              "<div>\n",
              "<style scoped>\n",
              "    .dataframe tbody tr th:only-of-type {\n",
              "        vertical-align: middle;\n",
              "    }\n",
              "\n",
              "    .dataframe tbody tr th {\n",
              "        vertical-align: top;\n",
              "    }\n",
              "\n",
              "    .dataframe thead th {\n",
              "        text-align: right;\n",
              "    }\n",
              "</style>\n",
              "<table border=\"1\" class=\"dataframe\">\n",
              "  <thead>\n",
              "    <tr style=\"text-align: right;\">\n",
              "      <th></th>\n",
              "      <th>Text</th>\n",
              "      <th>Intent</th>\n",
              "      <th>PRED</th>\n",
              "      <th>PRED_ACC</th>\n",
              "    </tr>\n",
              "  </thead>\n",
              "  <tbody>\n",
              "    <tr>\n",
              "      <th>0</th>\n",
              "      <td>Amar account e koto taka ache?</td>\n",
              "      <td>checkavailablebalanceand validity</td>\n",
              "      <td>CheckSMSofferinfo</td>\n",
              "      <td>0</td>\n",
              "    </tr>\n",
              "    <tr>\n",
              "      <th>1</th>\n",
              "      <td>Ami account balance kivabe dekhbo?</td>\n",
              "      <td>checkavailablebalanceand validity</td>\n",
              "      <td>CheckSMSofferinfo</td>\n",
              "      <td>0</td>\n",
              "    </tr>\n",
              "    <tr>\n",
              "      <th>2</th>\n",
              "      <td>Amar koto taka balance ase?</td>\n",
              "      <td>checkavailablebalanceand validity</td>\n",
              "      <td>CheckSMSofferinfo</td>\n",
              "      <td>0</td>\n",
              "    </tr>\n",
              "    <tr>\n",
              "      <th>3</th>\n",
              "      <td>Amar koto taka ache?</td>\n",
              "      <td>checkavailablebalanceand validity</td>\n",
              "      <td>CheckSMSofferinfo</td>\n",
              "      <td>0</td>\n",
              "    </tr>\n",
              "    <tr>\n",
              "      <th>4</th>\n",
              "      <td>Account er balance bolen</td>\n",
              "      <td>checkavailablebalanceand validity</td>\n",
              "      <td>CheckSMSofferinfo</td>\n",
              "      <td>0</td>\n",
              "    </tr>\n",
              "    <tr>\n",
              "      <th>...</th>\n",
              "      <td>...</td>\n",
              "      <td>...</td>\n",
              "      <td>...</td>\n",
              "      <td>...</td>\n",
              "    </tr>\n",
              "    <tr>\n",
              "      <th>88630</th>\n",
              "      <td>What special minit offer there in my number</td>\n",
              "      <td>MicroVoiceOfferInfo</td>\n",
              "      <td>CheckSMSofferinfo</td>\n",
              "      <td>0</td>\n",
              "    </tr>\n",
              "    <tr>\n",
              "      <th>88631</th>\n",
              "      <td>Any minit offer are in my number</td>\n",
              "      <td>MicroVoiceOfferInfo</td>\n",
              "      <td>CheckSMSofferinfo</td>\n",
              "      <td>0</td>\n",
              "    </tr>\n",
              "    <tr>\n",
              "      <th>88632</th>\n",
              "      <td>Inform me about my minit offer in this number</td>\n",
              "      <td>MicroVoiceOfferInfo</td>\n",
              "      <td>CheckSMSofferinfo</td>\n",
              "      <td>0</td>\n",
              "    </tr>\n",
              "    <tr>\n",
              "      <th>88633</th>\n",
              "      <td>Which menit offer are available in my number</td>\n",
              "      <td>MicroVoiceOfferInfo</td>\n",
              "      <td>CheckSMSofferinfo</td>\n",
              "      <td>0</td>\n",
              "    </tr>\n",
              "    <tr>\n",
              "      <th>88634</th>\n",
              "      <td>in this number any minute offer available?</td>\n",
              "      <td>MicroVoiceOfferInfo</td>\n",
              "      <td>CheckSMSofferinfo</td>\n",
              "      <td>0</td>\n",
              "    </tr>\n",
              "  </tbody>\n",
              "</table>\n",
              "<p>88635 rows × 4 columns</p>\n",
              "</div>"
            ],
            "text/plain": [
              "                                                Text  \\\n",
              "0                     Amar account e koto taka ache?   \n",
              "1                 Ami account balance kivabe dekhbo?   \n",
              "2                        Amar koto taka balance ase?   \n",
              "3                               Amar koto taka ache?   \n",
              "4                           Account er balance bolen   \n",
              "...                                              ...   \n",
              "88630    What special minit offer there in my number   \n",
              "88631               Any minit offer are in my number   \n",
              "88632  Inform me about my minit offer in this number   \n",
              "88633   Which menit offer are available in my number   \n",
              "88634     in this number any minute offer available?   \n",
              "\n",
              "                                  Intent               PRED  PRED_ACC  \n",
              "0      checkavailablebalanceand validity  CheckSMSofferinfo         0  \n",
              "1      checkavailablebalanceand validity  CheckSMSofferinfo         0  \n",
              "2      checkavailablebalanceand validity  CheckSMSofferinfo         0  \n",
              "3      checkavailablebalanceand validity  CheckSMSofferinfo         0  \n",
              "4      checkavailablebalanceand validity  CheckSMSofferinfo         0  \n",
              "...                                  ...                ...       ...  \n",
              "88630                MicroVoiceOfferInfo  CheckSMSofferinfo         0  \n",
              "88631                MicroVoiceOfferInfo  CheckSMSofferinfo         0  \n",
              "88632                MicroVoiceOfferInfo  CheckSMSofferinfo         0  \n",
              "88633                MicroVoiceOfferInfo  CheckSMSofferinfo         0  \n",
              "88634                MicroVoiceOfferInfo  CheckSMSofferinfo         0  \n",
              "\n",
              "[88635 rows x 4 columns]"
            ]
          },
          "metadata": {
            "tags": []
          },
          "execution_count": 72
        }
      ]
    },
    {
      "cell_type": "code",
      "metadata": {
        "colab": {
          "base_uri": "https://localhost:8080/"
        },
        "id": "sZ2DL3mhB-no",
        "outputId": "051b8cb2-935e-4314-b874-c3b4894ca7d7"
      },
      "source": [
        "data.PRED_ACC.value_counts()/data.shape[0]*100"
      ],
      "execution_count": null,
      "outputs": [
        {
          "output_type": "execute_result",
          "data": {
            "text/plain": [
              "0    99.299374\n",
              "1     0.700626\n",
              "Name: PRED_ACC, dtype: float64"
            ]
          },
          "metadata": {
            "tags": []
          },
          "execution_count": 83
        }
      ]
    },
    {
      "cell_type": "code",
      "metadata": {
        "colab": {
          "base_uri": "https://localhost:8080/"
        },
        "id": "vhOTvD6YKptb",
        "outputId": "319cdb1e-cf29-4330-8d8f-1df04d52b773"
      },
      "source": [
        "#!pip install google_trans_new\r\n",
        "# from google_trans_new import google_translator  \r\n",
        "# translator = google_translator()  \r\n",
        "twt='Balns kivabe deke'\r\n",
        "#twt=translator.translate(twt,lang_tgt='en')\r\n",
        "twt=[twt]\r\n",
        "\r\n",
        "#vectorizing\r\n",
        "twt = tokenizer.texts_to_sequences(twt)\r\n",
        "# #padding\r\n",
        "twt = pad_sequences(twt,padding='post',maxlen=23,value=0.0,dtype='int32')\r\n",
        "sentiment = model.predict(twt)\r\n",
        "print(Y_test.columns[pd.DataFrame(sentiment).idxmax(axis=1)][0]+\":\"+\" \"+str(np.max(sentiment)))"
      ],
      "execution_count": null,
      "outputs": [
        {
          "output_type": "stream",
          "text": [
            "checkavailablebalanceand validity: 0.99947625\n"
          ],
          "name": "stdout"
        }
      ]
    },
    {
      "cell_type": "code",
      "metadata": {
        "colab": {
          "base_uri": "https://localhost:8080/",
          "height": 35
        },
        "id": "ZamUIg5BvOEC",
        "outputId": "d23f87db-415b-4a77-a827-437f7c7bd416"
      },
      "source": [
        "twt = 'internet kivabe kinte hoy'\r\n",
        "twt=translator.translate(twt,lang_tgt='en')\r\n",
        "twt"
      ],
      "execution_count": null,
      "outputs": [
        {
          "output_type": "execute_result",
          "data": {
            "application/vnd.google.colaboratory.intrinsic+json": {
              "type": "string"
            },
            "text/plain": [
              "'How to buy internet '"
            ]
          },
          "metadata": {
            "tags": []
          },
          "execution_count": 24
        }
      ]
    },
    {
      "cell_type": "code",
      "metadata": {
        "colab": {
          "base_uri": "https://localhost:8080/",
          "height": 415
        },
        "id": "E4jbZw5_ipu9",
        "outputId": "40d57980-9f72-430a-e1cd-b04bced7afcc"
      },
      "source": [
        "data"
      ],
      "execution_count": null,
      "outputs": [
        {
          "output_type": "execute_result",
          "data": {
            "text/html": [
              "<div>\n",
              "<style scoped>\n",
              "    .dataframe tbody tr th:only-of-type {\n",
              "        vertical-align: middle;\n",
              "    }\n",
              "\n",
              "    .dataframe tbody tr th {\n",
              "        vertical-align: top;\n",
              "    }\n",
              "\n",
              "    .dataframe thead th {\n",
              "        text-align: right;\n",
              "    }\n",
              "</style>\n",
              "<table border=\"1\" class=\"dataframe\">\n",
              "  <thead>\n",
              "    <tr style=\"text-align: right;\">\n",
              "      <th></th>\n",
              "      <th>Intent</th>\n",
              "      <th>Text</th>\n",
              "      <th>PRED</th>\n",
              "    </tr>\n",
              "  </thead>\n",
              "  <tbody>\n",
              "    <tr>\n",
              "      <th>0</th>\n",
              "      <td>checkavailablebalanceand validity</td>\n",
              "      <td>How much money is in my account?</td>\n",
              "      <td>checkavailablebalanceand validity</td>\n",
              "    </tr>\n",
              "    <tr>\n",
              "      <th>1</th>\n",
              "      <td>checkavailablebalanceand validity</td>\n",
              "      <td>How do I view the account balance?</td>\n",
              "      <td>checkavailablebalanceand validity</td>\n",
              "    </tr>\n",
              "    <tr>\n",
              "      <th>2</th>\n",
              "      <td>checkavailablebalanceand validity</td>\n",
              "      <td>How much money do I have in balance?</td>\n",
              "      <td>checkavailablebalanceand validity</td>\n",
              "    </tr>\n",
              "    <tr>\n",
              "      <th>3</th>\n",
              "      <td>checkavailablebalanceand validity</td>\n",
              "      <td>How much money do I have?</td>\n",
              "      <td>checkavailablebalanceand validity</td>\n",
              "    </tr>\n",
              "    <tr>\n",
              "      <th>4</th>\n",
              "      <td>checkavailablebalanceand validity</td>\n",
              "      <td>Account is the balance ball</td>\n",
              "      <td>checkavailablebalanceand validity</td>\n",
              "    </tr>\n",
              "    <tr>\n",
              "      <th>...</th>\n",
              "      <td>...</td>\n",
              "      <td>...</td>\n",
              "      <td>...</td>\n",
              "    </tr>\n",
              "    <tr>\n",
              "      <th>88630</th>\n",
              "      <td>MicroVoiceOfferInfo</td>\n",
              "      <td>What special minit offer there in my number</td>\n",
              "      <td>MicroVoiceOfferInfo</td>\n",
              "    </tr>\n",
              "    <tr>\n",
              "      <th>88631</th>\n",
              "      <td>MicroVoiceOfferInfo</td>\n",
              "      <td>Any minute offer are in my number</td>\n",
              "      <td>MicroVoiceOfferInfo</td>\n",
              "    </tr>\n",
              "    <tr>\n",
              "      <th>88632</th>\n",
              "      <td>MicroVoiceOfferInfo</td>\n",
              "      <td>Inform me about my minit offer in this number</td>\n",
              "      <td>MicroVoiceOfferInfo</td>\n",
              "    </tr>\n",
              "    <tr>\n",
              "      <th>88633</th>\n",
              "      <td>MicroVoiceOfferInfo</td>\n",
              "      <td>Which menit offer are available in my number</td>\n",
              "      <td>MicroVoiceOfferInfo</td>\n",
              "    </tr>\n",
              "    <tr>\n",
              "      <th>88634</th>\n",
              "      <td>MicroVoiceOfferInfo</td>\n",
              "      <td>in this number any minute offer available?</td>\n",
              "      <td>MicroVoiceOfferInfo</td>\n",
              "    </tr>\n",
              "  </tbody>\n",
              "</table>\n",
              "<p>88635 rows × 3 columns</p>\n",
              "</div>"
            ],
            "text/plain": [
              "                                  Intent  \\\n",
              "0      checkavailablebalanceand validity   \n",
              "1      checkavailablebalanceand validity   \n",
              "2      checkavailablebalanceand validity   \n",
              "3      checkavailablebalanceand validity   \n",
              "4      checkavailablebalanceand validity   \n",
              "...                                  ...   \n",
              "88630                MicroVoiceOfferInfo   \n",
              "88631                MicroVoiceOfferInfo   \n",
              "88632                MicroVoiceOfferInfo   \n",
              "88633                MicroVoiceOfferInfo   \n",
              "88634                MicroVoiceOfferInfo   \n",
              "\n",
              "                                                 Text  \\\n",
              "0                   How much money is in my account?    \n",
              "1                 How do I view the account balance?    \n",
              "2               How much money do I have in balance?    \n",
              "3                          How much money do I have?    \n",
              "4                        Account is the balance ball    \n",
              "...                                               ...   \n",
              "88630    What special minit offer there in my number    \n",
              "88631              Any minute offer are in my number    \n",
              "88632  Inform me about my minit offer in this number    \n",
              "88633   Which menit offer are available in my number    \n",
              "88634     in this number any minute offer available?    \n",
              "\n",
              "                                    PRED  \n",
              "0      checkavailablebalanceand validity  \n",
              "1      checkavailablebalanceand validity  \n",
              "2      checkavailablebalanceand validity  \n",
              "3      checkavailablebalanceand validity  \n",
              "4      checkavailablebalanceand validity  \n",
              "...                                  ...  \n",
              "88630                MicroVoiceOfferInfo  \n",
              "88631                MicroVoiceOfferInfo  \n",
              "88632                MicroVoiceOfferInfo  \n",
              "88633                MicroVoiceOfferInfo  \n",
              "88634                MicroVoiceOfferInfo  \n",
              "\n",
              "[88635 rows x 3 columns]"
            ]
          },
          "metadata": {
            "tags": []
          },
          "execution_count": 33
        }
      ]
    },
    {
      "cell_type": "code",
      "metadata": {
        "id": "DGm8ONWfDB6J"
      },
      "source": [
        "# text=\" 10 \".join(data.iloc[:,0])\r\n",
        "# #!pip install google_trans_new\r\n",
        "# l=4500\r\n",
        "# from google_trans_new import google_translator  \r\n",
        "# translator = google_translator() \r\n",
        "# t=[]\r\n",
        "# for i in range(20):\r\n",
        "#   t.append(translator.translate(text[(i*l):(i+1)*l],lang_tgt='en'))"
      ],
      "execution_count": null,
      "outputs": []
    },
    {
      "cell_type": "code",
      "metadata": {
        "colab": {
          "base_uri": "https://localhost:8080/"
        },
        "id": "uRvZ00R7F4WB",
        "outputId": "f92461dc-d1e7-4ed0-ea03-834f00304c06"
      },
      "source": [
        "!pip install punkt"
      ],
      "execution_count": null,
      "outputs": [
        {
          "output_type": "stream",
          "text": [
            "\u001b[31mERROR: Could not find a version that satisfies the requirement punkt (from versions: none)\u001b[0m\n",
            "\u001b[31mERROR: No matching distribution found for punkt\u001b[0m\n"
          ],
          "name": "stdout"
        }
      ]
    },
    {
      "cell_type": "code",
      "metadata": {
        "colab": {
          "base_uri": "https://localhost:8080/",
          "height": 35
        },
        "id": "X86ZqRePFGJq",
        "outputId": "e92576c3-b323-4b62-95a4-b3aa72b46133"
      },
      "source": [
        "translator.translate('আমি বাংলায় গান গাই',lang_tgt='en')"
      ],
      "execution_count": null,
      "outputs": [
        {
          "output_type": "execute_result",
          "data": {
            "application/vnd.google.colaboratory.intrinsic+json": {
              "type": "string"
            },
            "text/plain": [
              "'I sing in Bengali '"
            ]
          },
          "metadata": {
            "tags": []
          },
          "execution_count": 57
        }
      ]
    },
    {
      "cell_type": "markdown",
      "metadata": {
        "id": "nQ515IVhWbmA"
      },
      "source": [
        "# Convert all text to English"
      ]
    },
    {
      "cell_type": "code",
      "metadata": {
        "id": "Op3NA-aZnAhL"
      },
      "source": [
        "#!pip install google_trans_new\r\n",
        "\r\n",
        "from google_trans_new import google_translator  \r\n",
        "translator = google_translator()  \r\n",
        "trans=[]\r\n",
        "l=0\r\n",
        "for i in data.iloc[:,0]:\r\n",
        "  trans.append(translator.translate(i,lang_tgt='en')) \r\n",
        "  l=l+1 \r\n",
        "  print(l)"
      ],
      "execution_count": null,
      "outputs": []
    },
    {
      "cell_type": "code",
      "metadata": {
        "id": "eGJpLDd0HZ1v"
      },
      "source": [
        "pd.concat([data,pd.DataFrame(trans)],axis=1).to_excel(\"/content/drive/MyDrive/to_english.xlsx\")"
      ],
      "execution_count": null,
      "outputs": []
    },
    {
      "cell_type": "code",
      "metadata": {
        "id": "rp6fUDM9QCip"
      },
      "source": [
        "pd.DataFrame(trans).to_excel(\"/content/drive/MyDrive/to_english.xlsx\")"
      ],
      "execution_count": null,
      "outputs": []
    },
    {
      "cell_type": "markdown",
      "metadata": {
        "id": "CYuzrghwDbvV"
      },
      "source": [
        "# Tokenizer"
      ]
    },
    {
      "cell_type": "code",
      "metadata": {
        "colab": {
          "base_uri": "https://localhost:8080/"
        },
        "id": "kZMVGnmpDWns",
        "outputId": "d7efdc20-d8fd-4d15-bb05-a539cd83bb44"
      },
      "source": [
        "from bnlp import BasicTokenizer\n",
        "basic_t = BasicTokenizer()\n",
        "raw_text = \"আমি বাংলায় গান গাই।\"\n",
        "tokens = basic_t.tokenize(raw_text)\n",
        "print(tokens)\n",
        "\n",
        "# output: [\"আমি\", \"বাংলায়\", \"গান\", \"গাই\", \"।\"]"
      ],
      "execution_count": null,
      "outputs": [
        {
          "output_type": "stream",
          "text": [
            "punkt not found. downloading...\n",
            "[nltk_data] Downloading package punkt to /root/nltk_data...\n",
            "[nltk_data]   Unzipping tokenizers/punkt.zip.\n",
            "['আমি', 'বাংলায়', 'গান', 'গাই', '।']\n"
          ],
          "name": "stdout"
        }
      ]
    },
    {
      "cell_type": "code",
      "metadata": {
        "colab": {
          "base_uri": "https://localhost:8080/"
        },
        "id": "-9q_CfsADpK_",
        "outputId": "f94317d0-9280-4113-b191-13a67aa48c39"
      },
      "source": [
        "from bnlp import NLTKTokenizer\n",
        "\n",
        "bnltk = NLTKTokenizer()\n",
        "\n",
        "text = \"আমি ভাত খাই। সে বাজারে যায়। তিনি কি সত্যিই ভালো মানুষ?\"\n",
        "\n",
        "word_tokens = bnltk.word_tokenize(text)\n",
        "sentence_tokens = bnltk.sentence_tokenize(text)\n",
        "print(word_tokens)\n",
        "print(sentence_tokens)"
      ],
      "execution_count": null,
      "outputs": [
        {
          "output_type": "stream",
          "text": [
            "['আমি', 'ভাত', 'খাই', '।', 'সে', 'বাজারে', 'যায়', '।', 'তিনি', 'কি', 'সত্যিই', 'ভালো', 'মানুষ', '?']\n",
            "['আমি ভাত খাই।', 'সে বাজারে যায়।', 'তিনি কি সত্যিই ভালো মানুষ?']\n"
          ],
          "name": "stdout"
        }
      ]
    },
    {
      "cell_type": "markdown",
      "metadata": {
        "id": "dS1K9nyLEgYJ"
      },
      "source": [
        "# STOP words"
      ]
    },
    {
      "cell_type": "code",
      "metadata": {
        "colab": {
          "base_uri": "https://localhost:8080/"
        },
        "id": "Ukmu_wABElCV",
        "outputId": "bc5d540b-f301-4f81-f1e0-2a07ff0e55b5"
      },
      "source": [
        "from bnlp.corpus import stopwords,punctuations\n",
        "from bnlp.corpus.util import remove_stopwords\n",
        "\n",
        "# remove stop words\n",
        "stopwords = stopwords()\n",
        "raw_text = 'আমি ভাত খাই।'\n",
        "result = remove_stopwords(raw_text, stopwords)\n",
        "print(result)\n",
        "# remove punctuations\n",
        "final_result = remove_stopwords(raw_text, punctuations)\n",
        "print(final_result)"
      ],
      "execution_count": null,
      "outputs": [
        {
          "output_type": "stream",
          "text": [
            "['ভাত', 'খাই', '।']\n",
            "['আমি', 'ভাত', 'খাই']\n"
          ],
          "name": "stdout"
        }
      ]
    },
    {
      "cell_type": "code",
      "metadata": {
        "colab": {
          "base_uri": "https://localhost:8080/"
        },
        "id": "zVbw_so2GbUC",
        "outputId": "2276ced4-dc01-497c-eb9f-f9495cc3e602"
      },
      "source": [
        "from bnlp import BengaliGlove\n",
        "\n",
        "bng = BengaliGlove()\n",
        "glove_path = \"/content/drive/MyDrive/bn_glove.39M.300d.txt\"\n",
        "word = \"গ্রাম\"\n",
        "# res = bng.closest_word(glove_path, word)\n",
        "# print(res)\n",
        "vec = bng.word2vec(glove_path, word)\n"
      ],
      "execution_count": null,
      "outputs": [
        {
          "output_type": "execute_result",
          "data": {
            "text/plain": [
              "300"
            ]
          },
          "metadata": {
            "tags": []
          },
          "execution_count": 32
        }
      ]
    },
    {
      "cell_type": "code",
      "metadata": {
        "colab": {
          "base_uri": "https://localhost:8080/"
        },
        "id": "VlUjwf6TNU4h",
        "outputId": "d4b2be97-eacf-46dc-cc7a-46dc17500e4f"
      },
      "source": [
        "!pip install langdetect"
      ],
      "execution_count": null,
      "outputs": [
        {
          "output_type": "stream",
          "text": [
            "Collecting langdetect\n",
            "\u001b[?25l  Downloading https://files.pythonhosted.org/packages/56/a3/8407c1e62d5980188b4acc45ef3d94b933d14a2ebc9ef3505f22cf772570/langdetect-1.0.8.tar.gz (981kB)\n",
            "\r\u001b[K     |▍                               | 10kB 16.6MB/s eta 0:00:01\r\u001b[K     |▊                               | 20kB 22.2MB/s eta 0:00:01\r\u001b[K     |█                               | 30kB 16.8MB/s eta 0:00:01\r\u001b[K     |█▍                              | 40kB 12.1MB/s eta 0:00:01\r\u001b[K     |█▊                              | 51kB 8.0MB/s eta 0:00:01\r\u001b[K     |██                              | 61kB 8.4MB/s eta 0:00:01\r\u001b[K     |██▍                             | 71kB 8.7MB/s eta 0:00:01\r\u001b[K     |██▊                             | 81kB 8.8MB/s eta 0:00:01\r\u001b[K     |███                             | 92kB 9.1MB/s eta 0:00:01\r\u001b[K     |███▍                            | 102kB 9.3MB/s eta 0:00:01\r\u001b[K     |███▊                            | 112kB 9.3MB/s eta 0:00:01\r\u001b[K     |████                            | 122kB 9.3MB/s eta 0:00:01\r\u001b[K     |████▍                           | 133kB 9.3MB/s eta 0:00:01\r\u001b[K     |████▊                           | 143kB 9.3MB/s eta 0:00:01\r\u001b[K     |█████                           | 153kB 9.3MB/s eta 0:00:01\r\u001b[K     |█████▍                          | 163kB 9.3MB/s eta 0:00:01\r\u001b[K     |█████▊                          | 174kB 9.3MB/s eta 0:00:01\r\u001b[K     |██████                          | 184kB 9.3MB/s eta 0:00:01\r\u001b[K     |██████▍                         | 194kB 9.3MB/s eta 0:00:01\r\u001b[K     |██████▊                         | 204kB 9.3MB/s eta 0:00:01\r\u001b[K     |███████                         | 215kB 9.3MB/s eta 0:00:01\r\u001b[K     |███████▍                        | 225kB 9.3MB/s eta 0:00:01\r\u001b[K     |███████▊                        | 235kB 9.3MB/s eta 0:00:01\r\u001b[K     |████████                        | 245kB 9.3MB/s eta 0:00:01\r\u001b[K     |████████▍                       | 256kB 9.3MB/s eta 0:00:01\r\u001b[K     |████████▊                       | 266kB 9.3MB/s eta 0:00:01\r\u001b[K     |█████████                       | 276kB 9.3MB/s eta 0:00:01\r\u001b[K     |█████████▍                      | 286kB 9.3MB/s eta 0:00:01\r\u001b[K     |█████████▊                      | 296kB 9.3MB/s eta 0:00:01\r\u001b[K     |██████████                      | 307kB 9.3MB/s eta 0:00:01\r\u001b[K     |██████████▍                     | 317kB 9.3MB/s eta 0:00:01\r\u001b[K     |██████████▊                     | 327kB 9.3MB/s eta 0:00:01\r\u001b[K     |███████████                     | 337kB 9.3MB/s eta 0:00:01\r\u001b[K     |███████████▍                    | 348kB 9.3MB/s eta 0:00:01\r\u001b[K     |███████████▊                    | 358kB 9.3MB/s eta 0:00:01\r\u001b[K     |████████████                    | 368kB 9.3MB/s eta 0:00:01\r\u001b[K     |████████████▍                   | 378kB 9.3MB/s eta 0:00:01\r\u001b[K     |████████████▊                   | 389kB 9.3MB/s eta 0:00:01\r\u001b[K     |█████████████                   | 399kB 9.3MB/s eta 0:00:01\r\u001b[K     |█████████████▍                  | 409kB 9.3MB/s eta 0:00:01\r\u001b[K     |█████████████▊                  | 419kB 9.3MB/s eta 0:00:01\r\u001b[K     |██████████████                  | 430kB 9.3MB/s eta 0:00:01\r\u001b[K     |██████████████▍                 | 440kB 9.3MB/s eta 0:00:01\r\u001b[K     |██████████████▊                 | 450kB 9.3MB/s eta 0:00:01\r\u001b[K     |███████████████                 | 460kB 9.3MB/s eta 0:00:01\r\u001b[K     |███████████████▍                | 471kB 9.3MB/s eta 0:00:01\r\u001b[K     |███████████████▊                | 481kB 9.3MB/s eta 0:00:01\r\u001b[K     |████████████████                | 491kB 9.3MB/s eta 0:00:01\r\u001b[K     |████████████████▍               | 501kB 9.3MB/s eta 0:00:01\r\u001b[K     |████████████████▊               | 512kB 9.3MB/s eta 0:00:01\r\u001b[K     |█████████████████               | 522kB 9.3MB/s eta 0:00:01\r\u001b[K     |█████████████████▍              | 532kB 9.3MB/s eta 0:00:01\r\u001b[K     |█████████████████▊              | 542kB 9.3MB/s eta 0:00:01\r\u001b[K     |██████████████████              | 552kB 9.3MB/s eta 0:00:01\r\u001b[K     |██████████████████▍             | 563kB 9.3MB/s eta 0:00:01\r\u001b[K     |██████████████████▊             | 573kB 9.3MB/s eta 0:00:01\r\u001b[K     |███████████████████             | 583kB 9.3MB/s eta 0:00:01\r\u001b[K     |███████████████████▍            | 593kB 9.3MB/s eta 0:00:01\r\u001b[K     |███████████████████▊            | 604kB 9.3MB/s eta 0:00:01\r\u001b[K     |████████████████████            | 614kB 9.3MB/s eta 0:00:01\r\u001b[K     |████████████████████▍           | 624kB 9.3MB/s eta 0:00:01\r\u001b[K     |████████████████████▊           | 634kB 9.3MB/s eta 0:00:01\r\u001b[K     |█████████████████████           | 645kB 9.3MB/s eta 0:00:01\r\u001b[K     |█████████████████████▍          | 655kB 9.3MB/s eta 0:00:01\r\u001b[K     |█████████████████████▊          | 665kB 9.3MB/s eta 0:00:01\r\u001b[K     |██████████████████████          | 675kB 9.3MB/s eta 0:00:01\r\u001b[K     |██████████████████████▍         | 686kB 9.3MB/s eta 0:00:01\r\u001b[K     |██████████████████████▊         | 696kB 9.3MB/s eta 0:00:01\r\u001b[K     |███████████████████████         | 706kB 9.3MB/s eta 0:00:01\r\u001b[K     |███████████████████████▍        | 716kB 9.3MB/s eta 0:00:01\r\u001b[K     |███████████████████████▊        | 727kB 9.3MB/s eta 0:00:01\r\u001b[K     |████████████████████████        | 737kB 9.3MB/s eta 0:00:01\r\u001b[K     |████████████████████████▍       | 747kB 9.3MB/s eta 0:00:01\r\u001b[K     |████████████████████████▊       | 757kB 9.3MB/s eta 0:00:01\r\u001b[K     |█████████████████████████       | 768kB 9.3MB/s eta 0:00:01\r\u001b[K     |█████████████████████████▍      | 778kB 9.3MB/s eta 0:00:01\r\u001b[K     |█████████████████████████▊      | 788kB 9.3MB/s eta 0:00:01\r\u001b[K     |██████████████████████████      | 798kB 9.3MB/s eta 0:00:01\r\u001b[K     |██████████████████████████▍     | 808kB 9.3MB/s eta 0:00:01\r\u001b[K     |██████████████████████████▊     | 819kB 9.3MB/s eta 0:00:01\r\u001b[K     |███████████████████████████     | 829kB 9.3MB/s eta 0:00:01\r\u001b[K     |███████████████████████████▍    | 839kB 9.3MB/s eta 0:00:01\r\u001b[K     |███████████████████████████▊    | 849kB 9.3MB/s eta 0:00:01\r\u001b[K     |████████████████████████████    | 860kB 9.3MB/s eta 0:00:01\r\u001b[K     |████████████████████████████▍   | 870kB 9.3MB/s eta 0:00:01\r\u001b[K     |████████████████████████████▊   | 880kB 9.3MB/s eta 0:00:01\r\u001b[K     |█████████████████████████████   | 890kB 9.3MB/s eta 0:00:01\r\u001b[K     |█████████████████████████████▍  | 901kB 9.3MB/s eta 0:00:01\r\u001b[K     |█████████████████████████████▊  | 911kB 9.3MB/s eta 0:00:01\r\u001b[K     |██████████████████████████████  | 921kB 9.3MB/s eta 0:00:01\r\u001b[K     |██████████████████████████████▍ | 931kB 9.3MB/s eta 0:00:01\r\u001b[K     |██████████████████████████████▊ | 942kB 9.3MB/s eta 0:00:01\r\u001b[K     |███████████████████████████████ | 952kB 9.3MB/s eta 0:00:01\r\u001b[K     |███████████████████████████████▍| 962kB 9.3MB/s eta 0:00:01\r\u001b[K     |███████████████████████████████▊| 972kB 9.3MB/s eta 0:00:01\r\u001b[K     |████████████████████████████████| 983kB 9.3MB/s \n",
            "\u001b[?25hRequirement already satisfied: six in /usr/local/lib/python3.6/dist-packages (from langdetect) (1.15.0)\n",
            "Building wheels for collected packages: langdetect\n",
            "  Building wheel for langdetect (setup.py) ... \u001b[?25l\u001b[?25hdone\n",
            "  Created wheel for langdetect: filename=langdetect-1.0.8-cp36-none-any.whl size=993193 sha256=b52e9a2a28d218b9dbbf56718e7f48836b2ba16028e14ffdf22b3b1d097533d9\n",
            "  Stored in directory: /root/.cache/pip/wheels/8d/b3/aa/6d99de9f3841d7d3d40a60ea06e6d669e8e5012e6c8b947a57\n",
            "Successfully built langdetect\n",
            "Installing collected packages: langdetect\n",
            "Successfully installed langdetect-1.0.8\n"
          ],
          "name": "stdout"
        }
      ]
    },
    {
      "cell_type": "code",
      "metadata": {
        "colab": {
          "base_uri": "https://localhost:8080/"
        },
        "id": "7TsZdj7ZeQic",
        "outputId": "7b7508a2-22d3-4041-b33f-d88647fec9c7"
      },
      "source": [
        "#!pip install speechrecognition pyttsx3 googletrans\r\n",
        "#!apt install libasound2-dev portaudio19-dev libportaudio2 libportaudiocpp0 ffmpeg\r\n",
        "!pip install PyAudio\r\n",
        "import speech_recognition as sr\r\n",
        "r = sr.Recognizer()\r\n",
        "#mic = sr.Microphone(device_index=0)"
      ],
      "execution_count": null,
      "outputs": [
        {
          "output_type": "stream",
          "text": [
            "Requirement already satisfied: PyAudio in /usr/local/lib/python3.6/dist-packages (0.2.11)\n"
          ],
          "name": "stdout"
        }
      ]
    },
    {
      "cell_type": "code",
      "metadata": {
        "colab": {
          "base_uri": "https://localhost:8080/",
          "height": 124
        },
        "id": "KDSSYMz89Qc_",
        "outputId": "fdf0d1cf-faba-4227-c003-8a459bfed901"
      },
      "source": [
        "#!pip install google_trans_new\r\n",
        "from google_trans_new import google_translator  \r\n",
        "translator = google_translator()  \r\n",
        "twt='A variant (strain) of the coronavirus first identified in the United Kingdom is being seen in various countries around the world. This information was given in the report of BBC online on Sunday. This new type of corona has been identified in various European countries as well as Canada and Japan. The Corona strain has spread to Denmark, the Netherlands, Italy, Germany, Spain, Belgium, Sweden, Switzerland and France in Europe. Corona new strain has spread beyond Europe. This list includes Australia, South Africa, Lebanon, Singapore, Thailand. This strain was eventually identified in Japan and Canada. Japan first reported that at least five people had been diagnosed with new types of corona. They all recently came to the country from the UK. It was later reported that two more corona were identified in the country. One of them has been infected locally.'\r\n",
        "twt=translator.translate(twt,lang_tgt='bn')\r\n",
        "twt"
      ],
      "execution_count": null,
      "outputs": [
        {
          "output_type": "execute_result",
          "data": {
            "application/vnd.google.colaboratory.intrinsic+json": {
              "type": "string"
            },
            "text/plain": [
              "'যুক্তরাজ্যে প্রথম চিহ্নিত করোনভাইরাসটির একটি বৈকল্পিক (স্ট্রেন) বিশ্বের বিভিন্ন দেশে দেখা যাচ্ছে। রবিবার বিবিসির অনলাইন প্রতিবেদনে এ তথ্য জানানো হয়েছে। এই নতুন ধরণের করোনাকে ইউরোপের বিভিন্ন দেশ পাশাপাশি কানাডা এবং জাপানে চিহ্নিত করা হয়েছে। করোনার স্ট্রেন ডেনমার্ক, নেদারল্যান্ডস, ইতালি, জার্মানি, স্পেন, বেলজিয়াম, সুইডেন, সুইজারল্যান্ড এবং ইউরোপের ফ্রান্সে ছড়িয়ে পড়েছে। করোনার নতুন স্ট্রেন ইউরোপ ছাড়িয়ে ছড়িয়ে পড়েছে। এই তালিকায় রয়েছে অস্ট্রেলিয়া, দক্ষিণ আফ্রিকা, লেবানন, সিঙ্গাপুর, থাইল্যান্ড। এই স্ট্রেনটি শেষ পর্যন্ত জাপান এবং কানাডায় চিহ্নিত হয়েছিল। জাপান প্রথম জানিয়েছিল যে কমপক্ষে পাঁচ জনকে নতুন ধরণের করোনায় ধরা পড়েছিল। তারা সকলেই সম্প্রতি যুক্তরাজ্য থেকে দেশে এসেছিলেন। পরে জানা গেছে যে দেশে আরও দুটি করোনাকে চিহ্নিত করা হয়েছিল। এর মধ্যে একটি স্থানীয়ভাবে সংক্রামিত হয়েছে। '"
            ]
          },
          "metadata": {
            "tags": []
          },
          "execution_count": 5
        }
      ]
    }
  ]
}